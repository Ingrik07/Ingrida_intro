{
 "cells": [
  {
   "cell_type": "markdown",
   "id": "742d5633",
   "metadata": {
    "papermill": {
     "duration": 0.011927,
     "end_time": "2024-07-24T12:52:28.865588",
     "exception": false,
     "start_time": "2024-07-24T12:52:28.853661",
     "status": "completed"
    },
    "tags": []
   },
   "source": [
    "# Top 50 Spotify tracks analysis\n",
    "\n",
    "## Introduction\n",
    "\n",
    "The goal of analysis is to analyze Spotify's top 50 hits and quantify what makes a hit song.\n",
    "\n",
    "The main questions the analysis answers to is which artisti are the most popular, which tracks features correlate the most/least."
   ]
  },
  {
   "cell_type": "code",
   "execution_count": 1,
   "id": "5fceafe6",
   "metadata": {
    "_cell_guid": "b1076dfc-b9ad-4769-8c92-a6c4dae69d19",
    "_uuid": "8f2839f25d086af736a60e9eeb907d3b93b6e0e5",
    "execution": {
     "iopub.execute_input": "2024-07-24T12:52:28.891713Z",
     "iopub.status.busy": "2024-07-24T12:52:28.891339Z",
     "iopub.status.idle": "2024-07-24T12:52:30.901856Z",
     "shell.execute_reply": "2024-07-24T12:52:30.900779Z"
    },
    "papermill": {
     "duration": 2.027003,
     "end_time": "2024-07-24T12:52:30.904335",
     "exception": false,
     "start_time": "2024-07-24T12:52:28.877332",
     "status": "completed"
    },
    "tags": []
   },
   "outputs": [
    {
     "name": "stdout",
     "output_type": "stream",
     "text": [
      "/kaggle/input/top-50-spotify-tracks-2020/spotifytoptracks.csv\n"
     ]
    }
   ],
   "source": [
    "#The librabries are installed in 2024\n",
    "\n",
    "import numpy as np\n",
    "import pandas as pd # data processing, CSV file.\n",
    "import matplotlib.pyplot as plt\n",
    "import seaborn as sns\n",
    "\n",
    "#requirements file\n",
    "\n",
    "import os\n",
    "for dirname, _, filenames in os.walk('/kaggle/input'):\n",
    "    for filename in filenames:\n",
    "        print(os.path.join(dirname, filename))"
   ]
  },
  {
   "cell_type": "code",
   "execution_count": 2,
   "id": "20f077ef",
   "metadata": {
    "execution": {
     "iopub.execute_input": "2024-07-24T12:52:30.929635Z",
     "iopub.status.busy": "2024-07-24T12:52:30.929128Z",
     "iopub.status.idle": "2024-07-24T12:52:30.977668Z",
     "shell.execute_reply": "2024-07-24T12:52:30.976604Z"
    },
    "papermill": {
     "duration": 0.063762,
     "end_time": "2024-07-24T12:52:30.980148",
     "exception": false,
     "start_time": "2024-07-24T12:52:30.916386",
     "status": "completed"
    },
    "tags": []
   },
   "outputs": [
    {
     "data": {
      "text/html": [
       "<div>\n",
       "<style scoped>\n",
       "    .dataframe tbody tr th:only-of-type {\n",
       "        vertical-align: middle;\n",
       "    }\n",
       "\n",
       "    .dataframe tbody tr th {\n",
       "        vertical-align: top;\n",
       "    }\n",
       "\n",
       "    .dataframe thead th {\n",
       "        text-align: right;\n",
       "    }\n",
       "</style>\n",
       "<table border=\"1\" class=\"dataframe\">\n",
       "  <thead>\n",
       "    <tr style=\"text-align: right;\">\n",
       "      <th></th>\n",
       "      <th>Unnamed: 0</th>\n",
       "      <th>artist</th>\n",
       "      <th>album</th>\n",
       "      <th>track_name</th>\n",
       "      <th>track_id</th>\n",
       "      <th>energy</th>\n",
       "      <th>danceability</th>\n",
       "      <th>key</th>\n",
       "      <th>loudness</th>\n",
       "      <th>acousticness</th>\n",
       "      <th>speechiness</th>\n",
       "      <th>instrumentalness</th>\n",
       "      <th>liveness</th>\n",
       "      <th>valence</th>\n",
       "      <th>tempo</th>\n",
       "      <th>duration_ms</th>\n",
       "      <th>genre</th>\n",
       "    </tr>\n",
       "  </thead>\n",
       "  <tbody>\n",
       "    <tr>\n",
       "      <th>0</th>\n",
       "      <td>0</td>\n",
       "      <td>The Weeknd</td>\n",
       "      <td>After Hours</td>\n",
       "      <td>Blinding Lights</td>\n",
       "      <td>0VjIjW4GlUZAMYd2vXMi3b</td>\n",
       "      <td>0.730</td>\n",
       "      <td>0.514</td>\n",
       "      <td>1</td>\n",
       "      <td>-5.934</td>\n",
       "      <td>0.00146</td>\n",
       "      <td>0.0598</td>\n",
       "      <td>0.000095</td>\n",
       "      <td>0.0897</td>\n",
       "      <td>0.334</td>\n",
       "      <td>171.005</td>\n",
       "      <td>200040</td>\n",
       "      <td>R&amp;B/Soul</td>\n",
       "    </tr>\n",
       "    <tr>\n",
       "      <th>1</th>\n",
       "      <td>1</td>\n",
       "      <td>Tones And I</td>\n",
       "      <td>Dance Monkey</td>\n",
       "      <td>Dance Monkey</td>\n",
       "      <td>1rgnBhdG2JDFTbYkYRZAku</td>\n",
       "      <td>0.593</td>\n",
       "      <td>0.825</td>\n",
       "      <td>6</td>\n",
       "      <td>-6.401</td>\n",
       "      <td>0.68800</td>\n",
       "      <td>0.0988</td>\n",
       "      <td>0.000161</td>\n",
       "      <td>0.1700</td>\n",
       "      <td>0.540</td>\n",
       "      <td>98.078</td>\n",
       "      <td>209755</td>\n",
       "      <td>Alternative/Indie</td>\n",
       "    </tr>\n",
       "    <tr>\n",
       "      <th>2</th>\n",
       "      <td>2</td>\n",
       "      <td>Roddy Ricch</td>\n",
       "      <td>Please Excuse Me For Being Antisocial</td>\n",
       "      <td>The Box</td>\n",
       "      <td>0nbXyq5TXYPCO7pr3N8S4I</td>\n",
       "      <td>0.586</td>\n",
       "      <td>0.896</td>\n",
       "      <td>10</td>\n",
       "      <td>-6.687</td>\n",
       "      <td>0.10400</td>\n",
       "      <td>0.0559</td>\n",
       "      <td>0.000000</td>\n",
       "      <td>0.7900</td>\n",
       "      <td>0.642</td>\n",
       "      <td>116.971</td>\n",
       "      <td>196653</td>\n",
       "      <td>Hip-Hop/Rap</td>\n",
       "    </tr>\n",
       "    <tr>\n",
       "      <th>3</th>\n",
       "      <td>3</td>\n",
       "      <td>SAINt JHN</td>\n",
       "      <td>Roses (Imanbek Remix)</td>\n",
       "      <td>Roses - Imanbek Remix</td>\n",
       "      <td>2Wo6QQD1KMDWeFkkjLqwx5</td>\n",
       "      <td>0.721</td>\n",
       "      <td>0.785</td>\n",
       "      <td>8</td>\n",
       "      <td>-5.457</td>\n",
       "      <td>0.01490</td>\n",
       "      <td>0.0506</td>\n",
       "      <td>0.004320</td>\n",
       "      <td>0.2850</td>\n",
       "      <td>0.894</td>\n",
       "      <td>121.962</td>\n",
       "      <td>176219</td>\n",
       "      <td>Dance/Electronic</td>\n",
       "    </tr>\n",
       "    <tr>\n",
       "      <th>4</th>\n",
       "      <td>4</td>\n",
       "      <td>Dua Lipa</td>\n",
       "      <td>Future Nostalgia</td>\n",
       "      <td>Don't Start Now</td>\n",
       "      <td>3PfIrDoz19wz7qK7tYeu62</td>\n",
       "      <td>0.793</td>\n",
       "      <td>0.793</td>\n",
       "      <td>11</td>\n",
       "      <td>-4.521</td>\n",
       "      <td>0.01230</td>\n",
       "      <td>0.0830</td>\n",
       "      <td>0.000000</td>\n",
       "      <td>0.0951</td>\n",
       "      <td>0.679</td>\n",
       "      <td>123.950</td>\n",
       "      <td>183290</td>\n",
       "      <td>Nu-disco</td>\n",
       "    </tr>\n",
       "  </tbody>\n",
       "</table>\n",
       "</div>"
      ],
      "text/plain": [
       "   Unnamed: 0       artist                                  album  \\\n",
       "0           0   The Weeknd                            After Hours   \n",
       "1           1  Tones And I                           Dance Monkey   \n",
       "2           2  Roddy Ricch  Please Excuse Me For Being Antisocial   \n",
       "3           3    SAINt JHN                  Roses (Imanbek Remix)   \n",
       "4           4     Dua Lipa                       Future Nostalgia   \n",
       "\n",
       "              track_name                track_id  energy  danceability  key  \\\n",
       "0        Blinding Lights  0VjIjW4GlUZAMYd2vXMi3b   0.730         0.514    1   \n",
       "1           Dance Monkey  1rgnBhdG2JDFTbYkYRZAku   0.593         0.825    6   \n",
       "2                The Box  0nbXyq5TXYPCO7pr3N8S4I   0.586         0.896   10   \n",
       "3  Roses - Imanbek Remix  2Wo6QQD1KMDWeFkkjLqwx5   0.721         0.785    8   \n",
       "4        Don't Start Now  3PfIrDoz19wz7qK7tYeu62   0.793         0.793   11   \n",
       "\n",
       "   loudness  acousticness  speechiness  instrumentalness  liveness  valence  \\\n",
       "0    -5.934       0.00146       0.0598          0.000095    0.0897    0.334   \n",
       "1    -6.401       0.68800       0.0988          0.000161    0.1700    0.540   \n",
       "2    -6.687       0.10400       0.0559          0.000000    0.7900    0.642   \n",
       "3    -5.457       0.01490       0.0506          0.004320    0.2850    0.894   \n",
       "4    -4.521       0.01230       0.0830          0.000000    0.0951    0.679   \n",
       "\n",
       "     tempo  duration_ms              genre  \n",
       "0  171.005       200040           R&B/Soul  \n",
       "1   98.078       209755  Alternative/Indie  \n",
       "2  116.971       196653        Hip-Hop/Rap  \n",
       "3  121.962       176219   Dance/Electronic  \n",
       "4  123.950       183290           Nu-disco  "
      ]
     },
     "execution_count": 2,
     "metadata": {},
     "output_type": "execute_result"
    }
   ],
   "source": [
    "#read CSV file and put a name for a dataframe\n",
    "df_old = pd.read_csv('/kaggle/input/top-50-spotify-tracks-2020/spotifytoptracks.csv')\n",
    "df_old.head() #observe the data columns"
   ]
  },
  {
   "cell_type": "code",
   "execution_count": 3,
   "id": "4caf9703",
   "metadata": {
    "execution": {
     "iopub.execute_input": "2024-07-24T12:52:31.006380Z",
     "iopub.status.busy": "2024-07-24T12:52:31.006028Z",
     "iopub.status.idle": "2024-07-24T12:52:31.011104Z",
     "shell.execute_reply": "2024-07-24T12:52:31.009973Z"
    },
    "papermill": {
     "duration": 0.021327,
     "end_time": "2024-07-24T12:52:31.013445",
     "exception": false,
     "start_time": "2024-07-24T12:52:30.992118",
     "status": "completed"
    },
    "tags": []
   },
   "outputs": [],
   "source": [
    "#start the row indexing from 1\n",
    "df_old.index = np.arange(1, len(df_old) + 1)"
   ]
  },
  {
   "cell_type": "code",
   "execution_count": 4,
   "id": "d1e4b5c0",
   "metadata": {
    "execution": {
     "iopub.execute_input": "2024-07-24T12:52:31.039406Z",
     "iopub.status.busy": "2024-07-24T12:52:31.039032Z",
     "iopub.status.idle": "2024-07-24T12:52:31.049741Z",
     "shell.execute_reply": "2024-07-24T12:52:31.048676Z"
    },
    "papermill": {
     "duration": 0.026557,
     "end_time": "2024-07-24T12:52:31.052189",
     "exception": false,
     "start_time": "2024-07-24T12:52:31.025632",
     "status": "completed"
    },
    "tags": []
   },
   "outputs": [],
   "source": [
    "#drop Unnamed column\n",
    "df = df_old.drop('Unnamed: 0', axis=1)"
   ]
  },
  {
   "cell_type": "code",
   "execution_count": 5,
   "id": "3b68bf65",
   "metadata": {
    "execution": {
     "iopub.execute_input": "2024-07-24T12:52:31.078518Z",
     "iopub.status.busy": "2024-07-24T12:52:31.077785Z",
     "iopub.status.idle": "2024-07-24T12:52:31.083380Z",
     "shell.execute_reply": "2024-07-24T12:52:31.082369Z"
    },
    "papermill": {
     "duration": 0.02113,
     "end_time": "2024-07-24T12:52:31.085511",
     "exception": false,
     "start_time": "2024-07-24T12:52:31.064381",
     "status": "completed"
    },
    "tags": []
   },
   "outputs": [],
   "source": [
    "#drop track id column which is not needed for the analysis\n",
    "df = df.drop('track_id', axis=1)"
   ]
  },
  {
   "cell_type": "markdown",
   "id": "223eb1aa",
   "metadata": {
    "papermill": {
     "duration": 0.011909,
     "end_time": "2024-07-24T12:52:31.109559",
     "exception": false,
     "start_time": "2024-07-24T12:52:31.097650",
     "status": "completed"
    },
    "tags": []
   },
   "source": [
    "### How many observations are there in this dataset?"
   ]
  },
  {
   "cell_type": "code",
   "execution_count": 6,
   "id": "05363e83",
   "metadata": {
    "execution": {
     "iopub.execute_input": "2024-07-24T12:52:31.136091Z",
     "iopub.status.busy": "2024-07-24T12:52:31.134779Z",
     "iopub.status.idle": "2024-07-24T12:52:31.142207Z",
     "shell.execute_reply": "2024-07-24T12:52:31.141025Z"
    },
    "papermill": {
     "duration": 0.022882,
     "end_time": "2024-07-24T12:52:31.144513",
     "exception": false,
     "start_time": "2024-07-24T12:52:31.121631",
     "status": "completed"
    },
    "tags": []
   },
   "outputs": [
    {
     "data": {
      "text/plain": [
       "50"
      ]
     },
     "execution_count": 6,
     "metadata": {},
     "output_type": "execute_result"
    }
   ],
   "source": [
    "num_observations = df.shape[0]\n",
    "num_observations"
   ]
  },
  {
   "cell_type": "markdown",
   "id": "753bddc8",
   "metadata": {
    "papermill": {
     "duration": 0.01168,
     "end_time": "2024-07-24T12:52:31.168322",
     "exception": false,
     "start_time": "2024-07-24T12:52:31.156642",
     "status": "completed"
    },
    "tags": []
   },
   "source": [
    "### How many features this dataset has?"
   ]
  },
  {
   "cell_type": "code",
   "execution_count": 7,
   "id": "c03b5c06",
   "metadata": {
    "execution": {
     "iopub.execute_input": "2024-07-24T12:52:31.194401Z",
     "iopub.status.busy": "2024-07-24T12:52:31.194054Z",
     "iopub.status.idle": "2024-07-24T12:52:31.200492Z",
     "shell.execute_reply": "2024-07-24T12:52:31.199504Z"
    },
    "papermill": {
     "duration": 0.022704,
     "end_time": "2024-07-24T12:52:31.203001",
     "exception": false,
     "start_time": "2024-07-24T12:52:31.180297",
     "status": "completed"
    },
    "tags": []
   },
   "outputs": [
    {
     "data": {
      "text/plain": [
       "15"
      ]
     },
     "execution_count": 7,
     "metadata": {},
     "output_type": "execute_result"
    }
   ],
   "source": [
    "num_features = df.shape[1]\n",
    "num_features"
   ]
  },
  {
   "cell_type": "markdown",
   "id": "34f0eadf",
   "metadata": {
    "papermill": {
     "duration": 0.011978,
     "end_time": "2024-07-24T12:52:31.227692",
     "exception": false,
     "start_time": "2024-07-24T12:52:31.215714",
     "status": "completed"
    },
    "tags": []
   },
   "source": [
    "### Which of the features are categorical?"
   ]
  },
  {
   "cell_type": "code",
   "execution_count": 8,
   "id": "bbf75aeb",
   "metadata": {
    "execution": {
     "iopub.execute_input": "2024-07-24T12:52:31.253574Z",
     "iopub.status.busy": "2024-07-24T12:52:31.253233Z",
     "iopub.status.idle": "2024-07-24T12:52:31.260432Z",
     "shell.execute_reply": "2024-07-24T12:52:31.259456Z"
    },
    "papermill": {
     "duration": 0.022721,
     "end_time": "2024-07-24T12:52:31.262585",
     "exception": false,
     "start_time": "2024-07-24T12:52:31.239864",
     "status": "completed"
    },
    "tags": []
   },
   "outputs": [
    {
     "data": {
      "text/plain": [
       "['artist', 'album', 'track_name', 'genre']"
      ]
     },
     "execution_count": 8,
     "metadata": {},
     "output_type": "execute_result"
    }
   ],
   "source": [
    "categorical_features = df.select_dtypes(include=['object', 'category']).columns.tolist()\n",
    "\n",
    "categorical_features"
   ]
  },
  {
   "cell_type": "markdown",
   "id": "03162c49",
   "metadata": {
    "papermill": {
     "duration": 0.011959,
     "end_time": "2024-07-24T12:52:31.286823",
     "exception": false,
     "start_time": "2024-07-24T12:52:31.274864",
     "status": "completed"
    },
    "tags": []
   },
   "source": [
    "### Which of the features are numeric?"
   ]
  },
  {
   "cell_type": "code",
   "execution_count": 9,
   "id": "e1cb3c5c",
   "metadata": {
    "execution": {
     "iopub.execute_input": "2024-07-24T12:52:31.313644Z",
     "iopub.status.busy": "2024-07-24T12:52:31.313293Z",
     "iopub.status.idle": "2024-07-24T12:52:31.320703Z",
     "shell.execute_reply": "2024-07-24T12:52:31.319785Z"
    },
    "papermill": {
     "duration": 0.02395,
     "end_time": "2024-07-24T12:52:31.323181",
     "exception": false,
     "start_time": "2024-07-24T12:52:31.299231",
     "status": "completed"
    },
    "tags": []
   },
   "outputs": [
    {
     "data": {
      "text/plain": [
       "['energy',\n",
       " 'danceability',\n",
       " 'key',\n",
       " 'loudness',\n",
       " 'acousticness',\n",
       " 'speechiness',\n",
       " 'instrumentalness',\n",
       " 'liveness',\n",
       " 'valence',\n",
       " 'tempo',\n",
       " 'duration_ms']"
      ]
     },
     "execution_count": 9,
     "metadata": {},
     "output_type": "execute_result"
    }
   ],
   "source": [
    "numeric_features = df.select_dtypes(include=['number']).columns.tolist()\n",
    "numeric_features"
   ]
  },
  {
   "cell_type": "code",
   "execution_count": 10,
   "id": "e663fc1c",
   "metadata": {
    "execution": {
     "iopub.execute_input": "2024-07-24T12:52:31.350283Z",
     "iopub.status.busy": "2024-07-24T12:52:31.349539Z",
     "iopub.status.idle": "2024-07-24T12:52:31.368359Z",
     "shell.execute_reply": "2024-07-24T12:52:31.367266Z"
    },
    "papermill": {
     "duration": 0.034653,
     "end_time": "2024-07-24T12:52:31.370613",
     "exception": false,
     "start_time": "2024-07-24T12:52:31.335960",
     "status": "completed"
    },
    "tags": []
   },
   "outputs": [
    {
     "data": {
      "text/html": [
       "<div>\n",
       "<style scoped>\n",
       "    .dataframe tbody tr th:only-of-type {\n",
       "        vertical-align: middle;\n",
       "    }\n",
       "\n",
       "    .dataframe tbody tr th {\n",
       "        vertical-align: top;\n",
       "    }\n",
       "\n",
       "    .dataframe thead th {\n",
       "        text-align: right;\n",
       "    }\n",
       "</style>\n",
       "<table border=\"1\" class=\"dataframe\">\n",
       "  <thead>\n",
       "    <tr style=\"text-align: right;\">\n",
       "      <th></th>\n",
       "      <th>artist</th>\n",
       "      <th>album</th>\n",
       "      <th>track_name</th>\n",
       "      <th>energy</th>\n",
       "      <th>danceability</th>\n",
       "      <th>key</th>\n",
       "      <th>loudness</th>\n",
       "      <th>acousticness</th>\n",
       "      <th>speechiness</th>\n",
       "      <th>instrumentalness</th>\n",
       "      <th>liveness</th>\n",
       "      <th>valence</th>\n",
       "      <th>tempo</th>\n",
       "      <th>duration_ms</th>\n",
       "      <th>genre</th>\n",
       "    </tr>\n",
       "  </thead>\n",
       "  <tbody>\n",
       "    <tr>\n",
       "      <th>1</th>\n",
       "      <td>The Weeknd</td>\n",
       "      <td>After Hours</td>\n",
       "      <td>Blinding Lights</td>\n",
       "      <td>0.730</td>\n",
       "      <td>0.514</td>\n",
       "      <td>1</td>\n",
       "      <td>-5.934</td>\n",
       "      <td>0.00146</td>\n",
       "      <td>0.0598</td>\n",
       "      <td>0.000095</td>\n",
       "      <td>0.0897</td>\n",
       "      <td>0.334</td>\n",
       "      <td>171.005</td>\n",
       "      <td>200040</td>\n",
       "      <td>R&amp;B/Soul</td>\n",
       "    </tr>\n",
       "    <tr>\n",
       "      <th>2</th>\n",
       "      <td>Tones And I</td>\n",
       "      <td>Dance Monkey</td>\n",
       "      <td>Dance Monkey</td>\n",
       "      <td>0.593</td>\n",
       "      <td>0.825</td>\n",
       "      <td>6</td>\n",
       "      <td>-6.401</td>\n",
       "      <td>0.68800</td>\n",
       "      <td>0.0988</td>\n",
       "      <td>0.000161</td>\n",
       "      <td>0.1700</td>\n",
       "      <td>0.540</td>\n",
       "      <td>98.078</td>\n",
       "      <td>209755</td>\n",
       "      <td>Alternative/Indie</td>\n",
       "    </tr>\n",
       "    <tr>\n",
       "      <th>3</th>\n",
       "      <td>Roddy Ricch</td>\n",
       "      <td>Please Excuse Me For Being Antisocial</td>\n",
       "      <td>The Box</td>\n",
       "      <td>0.586</td>\n",
       "      <td>0.896</td>\n",
       "      <td>10</td>\n",
       "      <td>-6.687</td>\n",
       "      <td>0.10400</td>\n",
       "      <td>0.0559</td>\n",
       "      <td>0.000000</td>\n",
       "      <td>0.7900</td>\n",
       "      <td>0.642</td>\n",
       "      <td>116.971</td>\n",
       "      <td>196653</td>\n",
       "      <td>Hip-Hop/Rap</td>\n",
       "    </tr>\n",
       "    <tr>\n",
       "      <th>4</th>\n",
       "      <td>SAINt JHN</td>\n",
       "      <td>Roses (Imanbek Remix)</td>\n",
       "      <td>Roses - Imanbek Remix</td>\n",
       "      <td>0.721</td>\n",
       "      <td>0.785</td>\n",
       "      <td>8</td>\n",
       "      <td>-5.457</td>\n",
       "      <td>0.01490</td>\n",
       "      <td>0.0506</td>\n",
       "      <td>0.004320</td>\n",
       "      <td>0.2850</td>\n",
       "      <td>0.894</td>\n",
       "      <td>121.962</td>\n",
       "      <td>176219</td>\n",
       "      <td>Dance/Electronic</td>\n",
       "    </tr>\n",
       "    <tr>\n",
       "      <th>5</th>\n",
       "      <td>Dua Lipa</td>\n",
       "      <td>Future Nostalgia</td>\n",
       "      <td>Don't Start Now</td>\n",
       "      <td>0.793</td>\n",
       "      <td>0.793</td>\n",
       "      <td>11</td>\n",
       "      <td>-4.521</td>\n",
       "      <td>0.01230</td>\n",
       "      <td>0.0830</td>\n",
       "      <td>0.000000</td>\n",
       "      <td>0.0951</td>\n",
       "      <td>0.679</td>\n",
       "      <td>123.950</td>\n",
       "      <td>183290</td>\n",
       "      <td>Nu-disco</td>\n",
       "    </tr>\n",
       "  </tbody>\n",
       "</table>\n",
       "</div>"
      ],
      "text/plain": [
       "        artist                                  album             track_name  \\\n",
       "1   The Weeknd                            After Hours        Blinding Lights   \n",
       "2  Tones And I                           Dance Monkey           Dance Monkey   \n",
       "3  Roddy Ricch  Please Excuse Me For Being Antisocial                The Box   \n",
       "4    SAINt JHN                  Roses (Imanbek Remix)  Roses - Imanbek Remix   \n",
       "5     Dua Lipa                       Future Nostalgia        Don't Start Now   \n",
       "\n",
       "   energy  danceability  key  loudness  acousticness  speechiness  \\\n",
       "1   0.730         0.514    1    -5.934       0.00146       0.0598   \n",
       "2   0.593         0.825    6    -6.401       0.68800       0.0988   \n",
       "3   0.586         0.896   10    -6.687       0.10400       0.0559   \n",
       "4   0.721         0.785    8    -5.457       0.01490       0.0506   \n",
       "5   0.793         0.793   11    -4.521       0.01230       0.0830   \n",
       "\n",
       "   instrumentalness  liveness  valence    tempo  duration_ms  \\\n",
       "1          0.000095    0.0897    0.334  171.005       200040   \n",
       "2          0.000161    0.1700    0.540   98.078       209755   \n",
       "3          0.000000    0.7900    0.642  116.971       196653   \n",
       "4          0.004320    0.2850    0.894  121.962       176219   \n",
       "5          0.000000    0.0951    0.679  123.950       183290   \n",
       "\n",
       "               genre  \n",
       "1           R&B/Soul  \n",
       "2  Alternative/Indie  \n",
       "3        Hip-Hop/Rap  \n",
       "4   Dance/Electronic  \n",
       "5           Nu-disco  "
      ]
     },
     "execution_count": 10,
     "metadata": {},
     "output_type": "execute_result"
    }
   ],
   "source": [
    "#Check the main view of the dataset\n",
    "df.head()"
   ]
  },
  {
   "cell_type": "markdown",
   "id": "ee683d8e",
   "metadata": {
    "papermill": {
     "duration": 0.012678,
     "end_time": "2024-07-24T12:52:31.395932",
     "exception": false,
     "start_time": "2024-07-24T12:52:31.383254",
     "status": "completed"
    },
    "tags": []
   },
   "source": [
    "### Data cleaning\n",
    "\n",
    "The following codes are used to check if there are any null or NA/NaN values.\n",
    "Gladly the dataset is clean and nothing additional is not needed to be done."
   ]
  },
  {
   "cell_type": "code",
   "execution_count": 11,
   "id": "26e4d976",
   "metadata": {
    "execution": {
     "iopub.execute_input": "2024-07-24T12:52:31.423044Z",
     "iopub.status.busy": "2024-07-24T12:52:31.422659Z",
     "iopub.status.idle": "2024-07-24T12:52:31.432485Z",
     "shell.execute_reply": "2024-07-24T12:52:31.431416Z"
    },
    "papermill": {
     "duration": 0.025594,
     "end_time": "2024-07-24T12:52:31.434570",
     "exception": false,
     "start_time": "2024-07-24T12:52:31.408976",
     "status": "completed"
    },
    "tags": []
   },
   "outputs": [
    {
     "data": {
      "text/plain": [
       "artist              False\n",
       "album               False\n",
       "track_name          False\n",
       "energy              False\n",
       "danceability        False\n",
       "key                 False\n",
       "loudness            False\n",
       "acousticness        False\n",
       "speechiness         False\n",
       "instrumentalness    False\n",
       "liveness            False\n",
       "valence             False\n",
       "tempo               False\n",
       "duration_ms         False\n",
       "genre               False\n",
       "dtype: bool"
      ]
     },
     "execution_count": 11,
     "metadata": {},
     "output_type": "execute_result"
    }
   ],
   "source": [
    "df.isnull().any()"
   ]
  },
  {
   "cell_type": "markdown",
   "id": "5df6de7d",
   "metadata": {
    "papermill": {
     "duration": 0.012457,
     "end_time": "2024-07-24T12:52:31.459887",
     "exception": false,
     "start_time": "2024-07-24T12:52:31.447430",
     "status": "completed"
    },
    "tags": []
   },
   "source": [
    "From 50 rows we can notice that there is no chance for duplications.\n",
    "But just in case I check it to make sure our assumption is true."
   ]
  },
  {
   "cell_type": "code",
   "execution_count": 12,
   "id": "98b363ee",
   "metadata": {
    "execution": {
     "iopub.execute_input": "2024-07-24T12:52:31.486777Z",
     "iopub.status.busy": "2024-07-24T12:52:31.486415Z",
     "iopub.status.idle": "2024-07-24T12:52:31.501073Z",
     "shell.execute_reply": "2024-07-24T12:52:31.500042Z"
    },
    "papermill": {
     "duration": 0.030932,
     "end_time": "2024-07-24T12:52:31.503520",
     "exception": false,
     "start_time": "2024-07-24T12:52:31.472588",
     "status": "completed"
    },
    "tags": []
   },
   "outputs": [
    {
     "data": {
      "text/plain": [
       "1     False\n",
       "2     False\n",
       "3     False\n",
       "4     False\n",
       "5     False\n",
       "6     False\n",
       "7     False\n",
       "8     False\n",
       "9     False\n",
       "10    False\n",
       "11    False\n",
       "12    False\n",
       "13    False\n",
       "14    False\n",
       "15    False\n",
       "16    False\n",
       "17    False\n",
       "18    False\n",
       "19    False\n",
       "20    False\n",
       "21    False\n",
       "22    False\n",
       "23    False\n",
       "24    False\n",
       "25    False\n",
       "26    False\n",
       "27    False\n",
       "28    False\n",
       "29    False\n",
       "30    False\n",
       "31    False\n",
       "32    False\n",
       "33    False\n",
       "34    False\n",
       "35    False\n",
       "36    False\n",
       "37    False\n",
       "38    False\n",
       "39    False\n",
       "40    False\n",
       "41    False\n",
       "42    False\n",
       "43    False\n",
       "44    False\n",
       "45    False\n",
       "46    False\n",
       "47    False\n",
       "48    False\n",
       "49    False\n",
       "50    False\n",
       "dtype: bool"
      ]
     },
     "execution_count": 12,
     "metadata": {},
     "output_type": "execute_result"
    }
   ],
   "source": [
    "df.duplicated()"
   ]
  },
  {
   "cell_type": "code",
   "execution_count": 13,
   "id": "31040c98",
   "metadata": {
    "execution": {
     "iopub.execute_input": "2024-07-24T12:52:31.532581Z",
     "iopub.status.busy": "2024-07-24T12:52:31.531760Z",
     "iopub.status.idle": "2024-07-24T12:52:31.540599Z",
     "shell.execute_reply": "2024-07-24T12:52:31.539583Z"
    },
    "papermill": {
     "duration": 0.025866,
     "end_time": "2024-07-24T12:52:31.542764",
     "exception": false,
     "start_time": "2024-07-24T12:52:31.516898",
     "status": "completed"
    },
    "tags": []
   },
   "outputs": [
    {
     "data": {
      "text/plain": [
       "artist              False\n",
       "album               False\n",
       "track_name          False\n",
       "energy              False\n",
       "danceability        False\n",
       "key                 False\n",
       "loudness            False\n",
       "acousticness        False\n",
       "speechiness         False\n",
       "instrumentalness    False\n",
       "liveness            False\n",
       "valence             False\n",
       "tempo               False\n",
       "duration_ms         False\n",
       "genre               False\n",
       "dtype: bool"
      ]
     },
     "execution_count": 13,
     "metadata": {},
     "output_type": "execute_result"
    }
   ],
   "source": [
    "#check if there are NA or NaN values\n",
    "df.isna().any()"
   ]
  },
  {
   "cell_type": "code",
   "execution_count": 14,
   "id": "85999912",
   "metadata": {
    "execution": {
     "iopub.execute_input": "2024-07-24T12:52:31.570968Z",
     "iopub.status.busy": "2024-07-24T12:52:31.570265Z",
     "iopub.status.idle": "2024-07-24T12:52:31.577156Z",
     "shell.execute_reply": "2024-07-24T12:52:31.576077Z"
    },
    "papermill": {
     "duration": 0.02304,
     "end_time": "2024-07-24T12:52:31.579091",
     "exception": false,
     "start_time": "2024-07-24T12:52:31.556051",
     "status": "completed"
    },
    "tags": []
   },
   "outputs": [
    {
     "data": {
      "text/plain": [
       "15"
      ]
     },
     "execution_count": 14,
     "metadata": {},
     "output_type": "execute_result"
    }
   ],
   "source": [
    "len(df.columns)"
   ]
  },
  {
   "cell_type": "code",
   "execution_count": 15,
   "id": "7d8eb836",
   "metadata": {
    "execution": {
     "iopub.execute_input": "2024-07-24T12:52:31.607474Z",
     "iopub.status.busy": "2024-07-24T12:52:31.606806Z",
     "iopub.status.idle": "2024-07-24T12:52:31.649376Z",
     "shell.execute_reply": "2024-07-24T12:52:31.648098Z"
    },
    "papermill": {
     "duration": 0.059306,
     "end_time": "2024-07-24T12:52:31.651791",
     "exception": false,
     "start_time": "2024-07-24T12:52:31.592485",
     "status": "completed"
    },
    "tags": []
   },
   "outputs": [
    {
     "data": {
      "text/html": [
       "<div>\n",
       "<style scoped>\n",
       "    .dataframe tbody tr th:only-of-type {\n",
       "        vertical-align: middle;\n",
       "    }\n",
       "\n",
       "    .dataframe tbody tr th {\n",
       "        vertical-align: top;\n",
       "    }\n",
       "\n",
       "    .dataframe thead th {\n",
       "        text-align: right;\n",
       "    }\n",
       "</style>\n",
       "<table border=\"1\" class=\"dataframe\">\n",
       "  <thead>\n",
       "    <tr style=\"text-align: right;\">\n",
       "      <th></th>\n",
       "      <th>energy</th>\n",
       "      <th>danceability</th>\n",
       "      <th>key</th>\n",
       "      <th>loudness</th>\n",
       "      <th>acousticness</th>\n",
       "      <th>speechiness</th>\n",
       "      <th>instrumentalness</th>\n",
       "      <th>liveness</th>\n",
       "      <th>valence</th>\n",
       "      <th>tempo</th>\n",
       "      <th>duration_ms</th>\n",
       "    </tr>\n",
       "  </thead>\n",
       "  <tbody>\n",
       "    <tr>\n",
       "      <th>count</th>\n",
       "      <td>50.000000</td>\n",
       "      <td>50.000000</td>\n",
       "      <td>50.000000</td>\n",
       "      <td>50.000000</td>\n",
       "      <td>50.000000</td>\n",
       "      <td>50.000000</td>\n",
       "      <td>50.000000</td>\n",
       "      <td>50.000000</td>\n",
       "      <td>50.000000</td>\n",
       "      <td>50.000000</td>\n",
       "      <td>50.000000</td>\n",
       "    </tr>\n",
       "    <tr>\n",
       "      <th>mean</th>\n",
       "      <td>0.609300</td>\n",
       "      <td>0.716720</td>\n",
       "      <td>5.720000</td>\n",
       "      <td>-6.225900</td>\n",
       "      <td>0.256206</td>\n",
       "      <td>0.124158</td>\n",
       "      <td>0.015962</td>\n",
       "      <td>0.196552</td>\n",
       "      <td>0.555710</td>\n",
       "      <td>119.690460</td>\n",
       "      <td>199955.360000</td>\n",
       "    </tr>\n",
       "    <tr>\n",
       "      <th>std</th>\n",
       "      <td>0.154348</td>\n",
       "      <td>0.124975</td>\n",
       "      <td>3.709007</td>\n",
       "      <td>2.349744</td>\n",
       "      <td>0.265250</td>\n",
       "      <td>0.116836</td>\n",
       "      <td>0.094312</td>\n",
       "      <td>0.176610</td>\n",
       "      <td>0.216386</td>\n",
       "      <td>25.414778</td>\n",
       "      <td>33996.122488</td>\n",
       "    </tr>\n",
       "    <tr>\n",
       "      <th>min</th>\n",
       "      <td>0.225000</td>\n",
       "      <td>0.351000</td>\n",
       "      <td>0.000000</td>\n",
       "      <td>-14.454000</td>\n",
       "      <td>0.001460</td>\n",
       "      <td>0.029000</td>\n",
       "      <td>0.000000</td>\n",
       "      <td>0.057400</td>\n",
       "      <td>0.060500</td>\n",
       "      <td>75.801000</td>\n",
       "      <td>140526.000000</td>\n",
       "    </tr>\n",
       "    <tr>\n",
       "      <th>25%</th>\n",
       "      <td>0.494000</td>\n",
       "      <td>0.672500</td>\n",
       "      <td>2.000000</td>\n",
       "      <td>-7.552500</td>\n",
       "      <td>0.052800</td>\n",
       "      <td>0.048325</td>\n",
       "      <td>0.000000</td>\n",
       "      <td>0.093950</td>\n",
       "      <td>0.434000</td>\n",
       "      <td>99.557250</td>\n",
       "      <td>175845.500000</td>\n",
       "    </tr>\n",
       "    <tr>\n",
       "      <th>50%</th>\n",
       "      <td>0.597000</td>\n",
       "      <td>0.746000</td>\n",
       "      <td>6.500000</td>\n",
       "      <td>-5.991500</td>\n",
       "      <td>0.188500</td>\n",
       "      <td>0.070050</td>\n",
       "      <td>0.000000</td>\n",
       "      <td>0.111000</td>\n",
       "      <td>0.560000</td>\n",
       "      <td>116.969000</td>\n",
       "      <td>197853.500000</td>\n",
       "    </tr>\n",
       "    <tr>\n",
       "      <th>75%</th>\n",
       "      <td>0.729750</td>\n",
       "      <td>0.794500</td>\n",
       "      <td>8.750000</td>\n",
       "      <td>-4.285500</td>\n",
       "      <td>0.298750</td>\n",
       "      <td>0.155500</td>\n",
       "      <td>0.000020</td>\n",
       "      <td>0.271250</td>\n",
       "      <td>0.726250</td>\n",
       "      <td>132.317000</td>\n",
       "      <td>215064.000000</td>\n",
       "    </tr>\n",
       "    <tr>\n",
       "      <th>max</th>\n",
       "      <td>0.855000</td>\n",
       "      <td>0.935000</td>\n",
       "      <td>11.000000</td>\n",
       "      <td>-3.280000</td>\n",
       "      <td>0.934000</td>\n",
       "      <td>0.487000</td>\n",
       "      <td>0.657000</td>\n",
       "      <td>0.792000</td>\n",
       "      <td>0.925000</td>\n",
       "      <td>180.067000</td>\n",
       "      <td>312820.000000</td>\n",
       "    </tr>\n",
       "  </tbody>\n",
       "</table>\n",
       "</div>"
      ],
      "text/plain": [
       "          energy  danceability        key   loudness  acousticness  \\\n",
       "count  50.000000     50.000000  50.000000  50.000000     50.000000   \n",
       "mean    0.609300      0.716720   5.720000  -6.225900      0.256206   \n",
       "std     0.154348      0.124975   3.709007   2.349744      0.265250   \n",
       "min     0.225000      0.351000   0.000000 -14.454000      0.001460   \n",
       "25%     0.494000      0.672500   2.000000  -7.552500      0.052800   \n",
       "50%     0.597000      0.746000   6.500000  -5.991500      0.188500   \n",
       "75%     0.729750      0.794500   8.750000  -4.285500      0.298750   \n",
       "max     0.855000      0.935000  11.000000  -3.280000      0.934000   \n",
       "\n",
       "       speechiness  instrumentalness   liveness    valence       tempo  \\\n",
       "count    50.000000         50.000000  50.000000  50.000000   50.000000   \n",
       "mean      0.124158          0.015962   0.196552   0.555710  119.690460   \n",
       "std       0.116836          0.094312   0.176610   0.216386   25.414778   \n",
       "min       0.029000          0.000000   0.057400   0.060500   75.801000   \n",
       "25%       0.048325          0.000000   0.093950   0.434000   99.557250   \n",
       "50%       0.070050          0.000000   0.111000   0.560000  116.969000   \n",
       "75%       0.155500          0.000020   0.271250   0.726250  132.317000   \n",
       "max       0.487000          0.657000   0.792000   0.925000  180.067000   \n",
       "\n",
       "         duration_ms  \n",
       "count      50.000000  \n",
       "mean   199955.360000  \n",
       "std     33996.122488  \n",
       "min    140526.000000  \n",
       "25%    175845.500000  \n",
       "50%    197853.500000  \n",
       "75%    215064.000000  \n",
       "max    312820.000000  "
      ]
     },
     "execution_count": 15,
     "metadata": {},
     "output_type": "execute_result"
    }
   ],
   "source": [
    "# Describe the main calculations of all mesurable variables\n",
    "df.describe()"
   ]
  },
  {
   "cell_type": "markdown",
   "id": "3c1ff4e3",
   "metadata": {
    "papermill": {
     "duration": 0.013525,
     "end_time": "2024-07-24T12:52:31.737655",
     "exception": false,
     "start_time": "2024-07-24T12:52:31.724130",
     "status": "completed"
    },
    "tags": []
   },
   "source": [
    "### How many albums in total have their songs in the top 50?"
   ]
  },
  {
   "cell_type": "code",
   "execution_count": 16,
   "id": "2d317c24",
   "metadata": {
    "execution": {
     "iopub.execute_input": "2024-07-24T12:52:31.766848Z",
     "iopub.status.busy": "2024-07-24T12:52:31.766467Z",
     "iopub.status.idle": "2024-07-24T12:52:31.773821Z",
     "shell.execute_reply": "2024-07-24T12:52:31.772781Z"
    },
    "papermill": {
     "duration": 0.024712,
     "end_time": "2024-07-24T12:52:31.776071",
     "exception": false,
     "start_time": "2024-07-24T12:52:31.751359",
     "status": "completed"
    },
    "tags": []
   },
   "outputs": [
    {
     "data": {
      "text/plain": [
       "45"
      ]
     },
     "execution_count": 16,
     "metadata": {},
     "output_type": "execute_result"
    }
   ],
   "source": [
    "unique_albums = df['album'].nunique()\n",
    "unique_albums"
   ]
  },
  {
   "cell_type": "markdown",
   "id": "aac5f5da",
   "metadata": {
    "papermill": {
     "duration": 0.013559,
     "end_time": "2024-07-24T12:52:31.804913",
     "exception": false,
     "start_time": "2024-07-24T12:52:31.791354",
     "status": "completed"
    },
    "tags": []
   },
   "source": [
    "### Are there any albums that have more than 1 popular track? If yes, which and how many?"
   ]
  },
  {
   "cell_type": "code",
   "execution_count": 17,
   "id": "185f6833",
   "metadata": {
    "execution": {
     "iopub.execute_input": "2024-07-24T12:52:31.833961Z",
     "iopub.status.busy": "2024-07-24T12:52:31.833583Z",
     "iopub.status.idle": "2024-07-24T12:52:31.843870Z",
     "shell.execute_reply": "2024-07-24T12:52:31.842631Z"
    },
    "papermill": {
     "duration": 0.027474,
     "end_time": "2024-07-24T12:52:31.846181",
     "exception": false,
     "start_time": "2024-07-24T12:52:31.818707",
     "status": "completed"
    },
    "tags": []
   },
   "outputs": [
    {
     "name": "stdout",
     "output_type": "stream",
     "text": [
      "album\n",
      "Future Nostalgia        3\n",
      "Changes                 2\n",
      "Fine Line               2\n",
      "Hollywood's Bleeding    2\n",
      "Name: track_name, dtype: int64\n"
     ]
    }
   ],
   "source": [
    "# Group by 'album' and count the number of tracks for each artist\n",
    "albums_tracks_no = df.groupby('album').track_name.count()\n",
    "\n",
    "# Filter artists with more than one track\n",
    "filter_tr_alb = albums_tracks_no[albums_tracks_no > 1]\n",
    "\n",
    "#Sort albums from by descending order by tracks number\n",
    "sorted_albums = filter_tr_alb.sort_values(ascending=False)\n",
    "\n",
    "# Display the result\n",
    "print(sorted_albums)"
   ]
  },
  {
   "cell_type": "markdown",
   "id": "1203f832",
   "metadata": {
    "papermill": {
     "duration": 0.013871,
     "end_time": "2024-07-24T12:52:31.874346",
     "exception": false,
     "start_time": "2024-07-24T12:52:31.860475",
     "status": "completed"
    },
    "tags": []
   },
   "source": [
    "### How many artists in total have their songs in the top 50?"
   ]
  },
  {
   "cell_type": "code",
   "execution_count": 18,
   "id": "b06513a5",
   "metadata": {
    "execution": {
     "iopub.execute_input": "2024-07-24T12:52:31.905834Z",
     "iopub.status.busy": "2024-07-24T12:52:31.905424Z",
     "iopub.status.idle": "2024-07-24T12:52:31.912350Z",
     "shell.execute_reply": "2024-07-24T12:52:31.911267Z"
    },
    "papermill": {
     "duration": 0.02622,
     "end_time": "2024-07-24T12:52:31.914634",
     "exception": false,
     "start_time": "2024-07-24T12:52:31.888414",
     "status": "completed"
    },
    "tags": []
   },
   "outputs": [
    {
     "data": {
      "text/plain": [
       "40"
      ]
     },
     "execution_count": 18,
     "metadata": {},
     "output_type": "execute_result"
    }
   ],
   "source": [
    "unique_artists = df['artist'].nunique()\n",
    "unique_artists"
   ]
  },
  {
   "cell_type": "markdown",
   "id": "d2dadea9",
   "metadata": {
    "papermill": {
     "duration": 0.013746,
     "end_time": "2024-07-24T12:52:31.942647",
     "exception": false,
     "start_time": "2024-07-24T12:52:31.928901",
     "status": "completed"
    },
    "tags": []
   },
   "source": [
    "### Are there any artists that have more than 1 popular track? If yes, which and how many?"
   ]
  },
  {
   "cell_type": "code",
   "execution_count": 19,
   "id": "259f358d",
   "metadata": {
    "execution": {
     "iopub.execute_input": "2024-07-24T12:52:31.972428Z",
     "iopub.status.busy": "2024-07-24T12:52:31.972060Z",
     "iopub.status.idle": "2024-07-24T12:52:31.981792Z",
     "shell.execute_reply": "2024-07-24T12:52:31.980678Z"
    },
    "papermill": {
     "duration": 0.027467,
     "end_time": "2024-07-24T12:52:31.984038",
     "exception": false,
     "start_time": "2024-07-24T12:52:31.956571",
     "status": "completed"
    },
    "tags": []
   },
   "outputs": [
    {
     "data": {
      "text/plain": [
       "artist\n",
       "Billie Eilish    3\n",
       "Dua Lipa         3\n",
       "Travis Scott     3\n",
       "Justin Bieber    2\n",
       "Harry Styles     2\n",
       "Lewis Capaldi    2\n",
       "Post Malone      2\n",
       "Name: count, dtype: int64"
      ]
     },
     "execution_count": 19,
     "metadata": {},
     "output_type": "execute_result"
    }
   ],
   "source": [
    "# Find artists with more than 1 popular track\n",
    "artists_with_multiple_tracks = df['artist'].value_counts()\n",
    "artists_with_multiple_tracks = artists_with_multiple_tracks[artists_with_multiple_tracks > 1]\n",
    "\n",
    "artists_with_multiple_tracks"
   ]
  },
  {
   "cell_type": "markdown",
   "id": "fe836f9d",
   "metadata": {
    "papermill": {
     "duration": 0.014214,
     "end_time": "2024-07-24T12:52:32.012785",
     "exception": false,
     "start_time": "2024-07-24T12:52:31.998571",
     "status": "completed"
    },
    "tags": []
   },
   "source": [
    "### Who was the most popular artist?"
   ]
  },
  {
   "cell_type": "code",
   "execution_count": 20,
   "id": "889c05ea",
   "metadata": {
    "execution": {
     "iopub.execute_input": "2024-07-24T12:52:32.043079Z",
     "iopub.status.busy": "2024-07-24T12:52:32.042125Z",
     "iopub.status.idle": "2024-07-24T12:52:32.048274Z",
     "shell.execute_reply": "2024-07-24T12:52:32.047221Z"
    },
    "papermill": {
     "duration": 0.023685,
     "end_time": "2024-07-24T12:52:32.050522",
     "exception": false,
     "start_time": "2024-07-24T12:52:32.026837",
     "status": "completed"
    },
    "tags": []
   },
   "outputs": [
    {
     "name": "stdout",
     "output_type": "stream",
     "text": [
      "The most popular artist is Billie Eilish with 3 tracks\n"
     ]
    }
   ],
   "source": [
    "most_popular_artist = artists_with_multiple_tracks.idxmax()\n",
    "most_popular_artist_count = artists_with_multiple_tracks.max()\n",
    "\n",
    "print('The most popular artist is', most_popular_artist, 'with', most_popular_artist_count, 'tracks')"
   ]
  },
  {
   "cell_type": "markdown",
   "id": "669441ac",
   "metadata": {
    "papermill": {
     "duration": 0.014051,
     "end_time": "2024-07-24T12:52:32.078771",
     "exception": false,
     "start_time": "2024-07-24T12:52:32.064720",
     "status": "completed"
    },
    "tags": []
   },
   "source": [
    "### Which tracks have a danceability score above 0.7?"
   ]
  },
  {
   "cell_type": "code",
   "execution_count": 21,
   "id": "0b7739a1",
   "metadata": {
    "execution": {
     "iopub.execute_input": "2024-07-24T12:52:32.108925Z",
     "iopub.status.busy": "2024-07-24T12:52:32.108147Z",
     "iopub.status.idle": "2024-07-24T12:52:32.122408Z",
     "shell.execute_reply": "2024-07-24T12:52:32.121421Z"
    },
    "papermill": {
     "duration": 0.031813,
     "end_time": "2024-07-24T12:52:32.124749",
     "exception": false,
     "start_time": "2024-07-24T12:52:32.092936",
     "status": "completed"
    },
    "tags": []
   },
   "outputs": [
    {
     "data": {
      "text/html": [
       "<div>\n",
       "<style scoped>\n",
       "    .dataframe tbody tr th:only-of-type {\n",
       "        vertical-align: middle;\n",
       "    }\n",
       "\n",
       "    .dataframe tbody tr th {\n",
       "        vertical-align: top;\n",
       "    }\n",
       "\n",
       "    .dataframe thead th {\n",
       "        text-align: right;\n",
       "    }\n",
       "</style>\n",
       "<table border=\"1\" class=\"dataframe\">\n",
       "  <thead>\n",
       "    <tr style=\"text-align: right;\">\n",
       "      <th></th>\n",
       "      <th>track_name</th>\n",
       "      <th>danceability</th>\n",
       "    </tr>\n",
       "  </thead>\n",
       "  <tbody>\n",
       "    <tr>\n",
       "      <th>2</th>\n",
       "      <td>Dance Monkey</td>\n",
       "      <td>0.825</td>\n",
       "    </tr>\n",
       "    <tr>\n",
       "      <th>3</th>\n",
       "      <td>The Box</td>\n",
       "      <td>0.896</td>\n",
       "    </tr>\n",
       "    <tr>\n",
       "      <th>4</th>\n",
       "      <td>Roses - Imanbek Remix</td>\n",
       "      <td>0.785</td>\n",
       "    </tr>\n",
       "    <tr>\n",
       "      <th>5</th>\n",
       "      <td>Don't Start Now</td>\n",
       "      <td>0.793</td>\n",
       "    </tr>\n",
       "    <tr>\n",
       "      <th>6</th>\n",
       "      <td>ROCKSTAR (feat. Roddy Ricch)</td>\n",
       "      <td>0.746</td>\n",
       "    </tr>\n",
       "    <tr>\n",
       "      <th>8</th>\n",
       "      <td>death bed (coffee for your head)</td>\n",
       "      <td>0.726</td>\n",
       "    </tr>\n",
       "    <tr>\n",
       "      <th>9</th>\n",
       "      <td>Falling</td>\n",
       "      <td>0.784</td>\n",
       "    </tr>\n",
       "    <tr>\n",
       "      <th>11</th>\n",
       "      <td>Tusa</td>\n",
       "      <td>0.803</td>\n",
       "    </tr>\n",
       "    <tr>\n",
       "      <th>14</th>\n",
       "      <td>Blueberry Faygo</td>\n",
       "      <td>0.774</td>\n",
       "    </tr>\n",
       "    <tr>\n",
       "      <th>15</th>\n",
       "      <td>Intentions (feat. Quavo)</td>\n",
       "      <td>0.806</td>\n",
       "    </tr>\n",
       "    <tr>\n",
       "      <th>16</th>\n",
       "      <td>Toosie Slide</td>\n",
       "      <td>0.830</td>\n",
       "    </tr>\n",
       "    <tr>\n",
       "      <th>18</th>\n",
       "      <td>Say So</td>\n",
       "      <td>0.787</td>\n",
       "    </tr>\n",
       "    <tr>\n",
       "      <th>19</th>\n",
       "      <td>Memories</td>\n",
       "      <td>0.764</td>\n",
       "    </tr>\n",
       "    <tr>\n",
       "      <th>20</th>\n",
       "      <td>Life Is Good (feat. Drake)</td>\n",
       "      <td>0.795</td>\n",
       "    </tr>\n",
       "    <tr>\n",
       "      <th>21</th>\n",
       "      <td>Savage Love (Laxed - Siren Beat)</td>\n",
       "      <td>0.767</td>\n",
       "    </tr>\n",
       "    <tr>\n",
       "      <th>23</th>\n",
       "      <td>Breaking Me</td>\n",
       "      <td>0.789</td>\n",
       "    </tr>\n",
       "    <tr>\n",
       "      <th>25</th>\n",
       "      <td>everything i wanted</td>\n",
       "      <td>0.704</td>\n",
       "    </tr>\n",
       "    <tr>\n",
       "      <th>26</th>\n",
       "      <td>Señorita</td>\n",
       "      <td>0.759</td>\n",
       "    </tr>\n",
       "    <tr>\n",
       "      <th>27</th>\n",
       "      <td>bad guy</td>\n",
       "      <td>0.701</td>\n",
       "    </tr>\n",
       "    <tr>\n",
       "      <th>28</th>\n",
       "      <td>WAP (feat. Megan Thee Stallion)</td>\n",
       "      <td>0.935</td>\n",
       "    </tr>\n",
       "    <tr>\n",
       "      <th>29</th>\n",
       "      <td>Sunday Best</td>\n",
       "      <td>0.878</td>\n",
       "    </tr>\n",
       "    <tr>\n",
       "      <th>30</th>\n",
       "      <td>Godzilla (feat. Juice WRLD)</td>\n",
       "      <td>0.808</td>\n",
       "    </tr>\n",
       "    <tr>\n",
       "      <th>32</th>\n",
       "      <td>Break My Heart</td>\n",
       "      <td>0.730</td>\n",
       "    </tr>\n",
       "    <tr>\n",
       "      <th>33</th>\n",
       "      <td>Dynamite</td>\n",
       "      <td>0.746</td>\n",
       "    </tr>\n",
       "    <tr>\n",
       "      <th>34</th>\n",
       "      <td>Supalonely (feat. Gus Dapperton)</td>\n",
       "      <td>0.862</td>\n",
       "    </tr>\n",
       "    <tr>\n",
       "      <th>38</th>\n",
       "      <td>Sunflower - Spider-Man: Into the Spider-Verse</td>\n",
       "      <td>0.755</td>\n",
       "    </tr>\n",
       "    <tr>\n",
       "      <th>39</th>\n",
       "      <td>Hawái</td>\n",
       "      <td>0.783</td>\n",
       "    </tr>\n",
       "    <tr>\n",
       "      <th>40</th>\n",
       "      <td>Ride It</td>\n",
       "      <td>0.880</td>\n",
       "    </tr>\n",
       "    <tr>\n",
       "      <th>41</th>\n",
       "      <td>goosebumps</td>\n",
       "      <td>0.841</td>\n",
       "    </tr>\n",
       "    <tr>\n",
       "      <th>42</th>\n",
       "      <td>RITMO (Bad Boys For Life)</td>\n",
       "      <td>0.723</td>\n",
       "    </tr>\n",
       "    <tr>\n",
       "      <th>43</th>\n",
       "      <td>THE SCOTTS</td>\n",
       "      <td>0.716</td>\n",
       "    </tr>\n",
       "    <tr>\n",
       "      <th>50</th>\n",
       "      <td>SICKO MODE</td>\n",
       "      <td>0.834</td>\n",
       "    </tr>\n",
       "  </tbody>\n",
       "</table>\n",
       "</div>"
      ],
      "text/plain": [
       "                                       track_name  danceability\n",
       "2                                    Dance Monkey         0.825\n",
       "3                                         The Box         0.896\n",
       "4                           Roses - Imanbek Remix         0.785\n",
       "5                                 Don't Start Now         0.793\n",
       "6                    ROCKSTAR (feat. Roddy Ricch)         0.746\n",
       "8                death bed (coffee for your head)         0.726\n",
       "9                                         Falling         0.784\n",
       "11                                           Tusa         0.803\n",
       "14                                Blueberry Faygo         0.774\n",
       "15                       Intentions (feat. Quavo)         0.806\n",
       "16                                   Toosie Slide         0.830\n",
       "18                                         Say So         0.787\n",
       "19                                       Memories         0.764\n",
       "20                     Life Is Good (feat. Drake)         0.795\n",
       "21               Savage Love (Laxed - Siren Beat)         0.767\n",
       "23                                    Breaking Me         0.789\n",
       "25                            everything i wanted         0.704\n",
       "26                                       Señorita         0.759\n",
       "27                                        bad guy         0.701\n",
       "28                WAP (feat. Megan Thee Stallion)         0.935\n",
       "29                                    Sunday Best         0.878\n",
       "30                    Godzilla (feat. Juice WRLD)         0.808\n",
       "32                                 Break My Heart         0.730\n",
       "33                                       Dynamite         0.746\n",
       "34               Supalonely (feat. Gus Dapperton)         0.862\n",
       "38  Sunflower - Spider-Man: Into the Spider-Verse         0.755\n",
       "39                                          Hawái         0.783\n",
       "40                                        Ride It         0.880\n",
       "41                                     goosebumps         0.841\n",
       "42                      RITMO (Bad Boys For Life)         0.723\n",
       "43                                     THE SCOTTS         0.716\n",
       "50                                     SICKO MODE         0.834"
      ]
     },
     "execution_count": 21,
     "metadata": {},
     "output_type": "execute_result"
    }
   ],
   "source": [
    "dance_filter1 = df['danceability'] > 0.7\n",
    "dance_tracks = df.loc[dance_filter1, ['track_name', 'danceability']]\n",
    "dance_tracks"
   ]
  },
  {
   "cell_type": "markdown",
   "id": "788f9d1d",
   "metadata": {
    "papermill": {
     "duration": 0.014365,
     "end_time": "2024-07-24T12:52:32.153757",
     "exception": false,
     "start_time": "2024-07-24T12:52:32.139392",
     "status": "completed"
    },
    "tags": []
   },
   "source": [
    "### Which tracks have a danceability score below 0.4?"
   ]
  },
  {
   "cell_type": "code",
   "execution_count": 22,
   "id": "fd469cad",
   "metadata": {
    "execution": {
     "iopub.execute_input": "2024-07-24T12:52:32.184989Z",
     "iopub.status.busy": "2024-07-24T12:52:32.184572Z",
     "iopub.status.idle": "2024-07-24T12:52:32.196612Z",
     "shell.execute_reply": "2024-07-24T12:52:32.195649Z"
    },
    "papermill": {
     "duration": 0.0303,
     "end_time": "2024-07-24T12:52:32.198697",
     "exception": false,
     "start_time": "2024-07-24T12:52:32.168397",
     "status": "completed"
    },
    "tags": []
   },
   "outputs": [
    {
     "data": {
      "text/html": [
       "<div>\n",
       "<style scoped>\n",
       "    .dataframe tbody tr th:only-of-type {\n",
       "        vertical-align: middle;\n",
       "    }\n",
       "\n",
       "    .dataframe tbody tr th {\n",
       "        vertical-align: top;\n",
       "    }\n",
       "\n",
       "    .dataframe thead th {\n",
       "        text-align: right;\n",
       "    }\n",
       "</style>\n",
       "<table border=\"1\" class=\"dataframe\">\n",
       "  <thead>\n",
       "    <tr style=\"text-align: right;\">\n",
       "      <th></th>\n",
       "      <th>track_name</th>\n",
       "      <th>danceability</th>\n",
       "    </tr>\n",
       "  </thead>\n",
       "  <tbody>\n",
       "    <tr>\n",
       "      <th>45</th>\n",
       "      <td>lovely (with Khalid)</td>\n",
       "      <td>0.351</td>\n",
       "    </tr>\n",
       "  </tbody>\n",
       "</table>\n",
       "</div>"
      ],
      "text/plain": [
       "              track_name  danceability\n",
       "45  lovely (with Khalid)         0.351"
      ]
     },
     "execution_count": 22,
     "metadata": {},
     "output_type": "execute_result"
    }
   ],
   "source": [
    "dance_filter2 = df['danceability'] < 0.4\n",
    "\n",
    "dance_tracks2 = df.loc[dance_filter2, ['track_name', 'danceability']]\n",
    "dance_tracks2"
   ]
  },
  {
   "cell_type": "markdown",
   "id": "dfdab5b6",
   "metadata": {
    "papermill": {
     "duration": 0.014324,
     "end_time": "2024-07-24T12:52:32.227705",
     "exception": false,
     "start_time": "2024-07-24T12:52:32.213381",
     "status": "completed"
    },
    "tags": []
   },
   "source": [
    "### Which tracks have their loudness above -5?"
   ]
  },
  {
   "cell_type": "code",
   "execution_count": 23,
   "id": "c597784e",
   "metadata": {
    "execution": {
     "iopub.execute_input": "2024-07-24T12:52:32.258999Z",
     "iopub.status.busy": "2024-07-24T12:52:32.258283Z",
     "iopub.status.idle": "2024-07-24T12:52:32.271291Z",
     "shell.execute_reply": "2024-07-24T12:52:32.270276Z"
    },
    "papermill": {
     "duration": 0.031104,
     "end_time": "2024-07-24T12:52:32.273455",
     "exception": false,
     "start_time": "2024-07-24T12:52:32.242351",
     "status": "completed"
    },
    "tags": []
   },
   "outputs": [
    {
     "data": {
      "text/html": [
       "<div>\n",
       "<style scoped>\n",
       "    .dataframe tbody tr th:only-of-type {\n",
       "        vertical-align: middle;\n",
       "    }\n",
       "\n",
       "    .dataframe tbody tr th {\n",
       "        vertical-align: top;\n",
       "    }\n",
       "\n",
       "    .dataframe thead th {\n",
       "        text-align: right;\n",
       "    }\n",
       "</style>\n",
       "<table border=\"1\" class=\"dataframe\">\n",
       "  <thead>\n",
       "    <tr style=\"text-align: right;\">\n",
       "      <th></th>\n",
       "      <th>track_name</th>\n",
       "      <th>loudness</th>\n",
       "    </tr>\n",
       "  </thead>\n",
       "  <tbody>\n",
       "    <tr>\n",
       "      <th>5</th>\n",
       "      <td>Don't Start Now</td>\n",
       "      <td>-4.521</td>\n",
       "    </tr>\n",
       "    <tr>\n",
       "      <th>7</th>\n",
       "      <td>Watermelon Sugar</td>\n",
       "      <td>-4.209</td>\n",
       "    </tr>\n",
       "    <tr>\n",
       "      <th>11</th>\n",
       "      <td>Tusa</td>\n",
       "      <td>-3.280</td>\n",
       "    </tr>\n",
       "    <tr>\n",
       "      <th>13</th>\n",
       "      <td>Circles</td>\n",
       "      <td>-3.497</td>\n",
       "    </tr>\n",
       "    <tr>\n",
       "      <th>17</th>\n",
       "      <td>Before You Go</td>\n",
       "      <td>-4.858</td>\n",
       "    </tr>\n",
       "    <tr>\n",
       "      <th>18</th>\n",
       "      <td>Say So</td>\n",
       "      <td>-4.577</td>\n",
       "    </tr>\n",
       "    <tr>\n",
       "      <th>22</th>\n",
       "      <td>Adore You</td>\n",
       "      <td>-3.675</td>\n",
       "    </tr>\n",
       "    <tr>\n",
       "      <th>24</th>\n",
       "      <td>Mood (feat. iann dior)</td>\n",
       "      <td>-3.558</td>\n",
       "    </tr>\n",
       "    <tr>\n",
       "      <th>32</th>\n",
       "      <td>Break My Heart</td>\n",
       "      <td>-3.434</td>\n",
       "    </tr>\n",
       "    <tr>\n",
       "      <th>33</th>\n",
       "      <td>Dynamite</td>\n",
       "      <td>-4.410</td>\n",
       "    </tr>\n",
       "    <tr>\n",
       "      <th>34</th>\n",
       "      <td>Supalonely (feat. Gus Dapperton)</td>\n",
       "      <td>-4.746</td>\n",
       "    </tr>\n",
       "    <tr>\n",
       "      <th>36</th>\n",
       "      <td>Rain On Me (with Ariana Grande)</td>\n",
       "      <td>-3.764</td>\n",
       "    </tr>\n",
       "    <tr>\n",
       "      <th>38</th>\n",
       "      <td>Sunflower - Spider-Man: Into the Spider-Verse</td>\n",
       "      <td>-4.368</td>\n",
       "    </tr>\n",
       "    <tr>\n",
       "      <th>39</th>\n",
       "      <td>Hawái</td>\n",
       "      <td>-3.454</td>\n",
       "    </tr>\n",
       "    <tr>\n",
       "      <th>40</th>\n",
       "      <td>Ride It</td>\n",
       "      <td>-4.258</td>\n",
       "    </tr>\n",
       "    <tr>\n",
       "      <th>41</th>\n",
       "      <td>goosebumps</td>\n",
       "      <td>-3.370</td>\n",
       "    </tr>\n",
       "    <tr>\n",
       "      <th>44</th>\n",
       "      <td>Safaera</td>\n",
       "      <td>-4.074</td>\n",
       "    </tr>\n",
       "    <tr>\n",
       "      <th>49</th>\n",
       "      <td>Physical</td>\n",
       "      <td>-3.756</td>\n",
       "    </tr>\n",
       "    <tr>\n",
       "      <th>50</th>\n",
       "      <td>SICKO MODE</td>\n",
       "      <td>-3.714</td>\n",
       "    </tr>\n",
       "  </tbody>\n",
       "</table>\n",
       "</div>"
      ],
      "text/plain": [
       "                                       track_name  loudness\n",
       "5                                 Don't Start Now    -4.521\n",
       "7                                Watermelon Sugar    -4.209\n",
       "11                                           Tusa    -3.280\n",
       "13                                        Circles    -3.497\n",
       "17                                  Before You Go    -4.858\n",
       "18                                         Say So    -4.577\n",
       "22                                      Adore You    -3.675\n",
       "24                         Mood (feat. iann dior)    -3.558\n",
       "32                                 Break My Heart    -3.434\n",
       "33                                       Dynamite    -4.410\n",
       "34               Supalonely (feat. Gus Dapperton)    -4.746\n",
       "36                Rain On Me (with Ariana Grande)    -3.764\n",
       "38  Sunflower - Spider-Man: Into the Spider-Verse    -4.368\n",
       "39                                          Hawái    -3.454\n",
       "40                                        Ride It    -4.258\n",
       "41                                     goosebumps    -3.370\n",
       "44                                        Safaera    -4.074\n",
       "49                                       Physical    -3.756\n",
       "50                                     SICKO MODE    -3.714"
      ]
     },
     "execution_count": 23,
     "metadata": {},
     "output_type": "execute_result"
    }
   ],
   "source": [
    "loud_filter1 = df['loudness'] > -5\n",
    "\n",
    "loud_track1 = df.loc[loud_filter1, ['track_name', 'loudness']]\n",
    "loud_track1"
   ]
  },
  {
   "cell_type": "markdown",
   "id": "d672a69f",
   "metadata": {
    "papermill": {
     "duration": 0.014855,
     "end_time": "2024-07-24T12:52:32.303251",
     "exception": false,
     "start_time": "2024-07-24T12:52:32.288396",
     "status": "completed"
    },
    "tags": []
   },
   "source": [
    "### Which tracks have their loudness below -8?"
   ]
  },
  {
   "cell_type": "code",
   "execution_count": 24,
   "id": "1cfaa068",
   "metadata": {
    "execution": {
     "iopub.execute_input": "2024-07-24T12:52:32.335122Z",
     "iopub.status.busy": "2024-07-24T12:52:32.334718Z",
     "iopub.status.idle": "2024-07-24T12:52:32.346392Z",
     "shell.execute_reply": "2024-07-24T12:52:32.345168Z"
    },
    "papermill": {
     "duration": 0.030752,
     "end_time": "2024-07-24T12:52:32.349043",
     "exception": false,
     "start_time": "2024-07-24T12:52:32.318291",
     "status": "completed"
    },
    "tags": []
   },
   "outputs": [
    {
     "data": {
      "text/html": [
       "<div>\n",
       "<style scoped>\n",
       "    .dataframe tbody tr th:only-of-type {\n",
       "        vertical-align: middle;\n",
       "    }\n",
       "\n",
       "    .dataframe tbody tr th {\n",
       "        vertical-align: top;\n",
       "    }\n",
       "\n",
       "    .dataframe thead th {\n",
       "        text-align: right;\n",
       "    }\n",
       "</style>\n",
       "<table border=\"1\" class=\"dataframe\">\n",
       "  <thead>\n",
       "    <tr style=\"text-align: right;\">\n",
       "      <th></th>\n",
       "      <th>track_name</th>\n",
       "      <th>danceability</th>\n",
       "    </tr>\n",
       "  </thead>\n",
       "  <tbody>\n",
       "    <tr>\n",
       "      <th>45</th>\n",
       "      <td>lovely (with Khalid)</td>\n",
       "      <td>0.351</td>\n",
       "    </tr>\n",
       "  </tbody>\n",
       "</table>\n",
       "</div>"
      ],
      "text/plain": [
       "              track_name  danceability\n",
       "45  lovely (with Khalid)         0.351"
      ]
     },
     "execution_count": 24,
     "metadata": {},
     "output_type": "execute_result"
    }
   ],
   "source": [
    "loud_filter2 = df['loudness'] < -8\n",
    "\n",
    "dance_tracks2 = df.loc[dance_filter2, ['track_name', 'danceability']]\n",
    "dance_tracks2"
   ]
  },
  {
   "cell_type": "markdown",
   "id": "5948ad02",
   "metadata": {
    "papermill": {
     "duration": 0.01555,
     "end_time": "2024-07-24T12:52:32.379916",
     "exception": false,
     "start_time": "2024-07-24T12:52:32.364366",
     "status": "completed"
    },
    "tags": []
   },
   "source": [
    "### Which track is the longest?"
   ]
  },
  {
   "cell_type": "code",
   "execution_count": 25,
   "id": "6a9ea598",
   "metadata": {
    "execution": {
     "iopub.execute_input": "2024-07-24T12:52:32.412338Z",
     "iopub.status.busy": "2024-07-24T12:52:32.411555Z",
     "iopub.status.idle": "2024-07-24T12:52:32.420462Z",
     "shell.execute_reply": "2024-07-24T12:52:32.419445Z"
    },
    "papermill": {
     "duration": 0.027487,
     "end_time": "2024-07-24T12:52:32.422648",
     "exception": false,
     "start_time": "2024-07-24T12:52:32.395161",
     "status": "completed"
    },
    "tags": []
   },
   "outputs": [
    {
     "data": {
      "text/plain": [
       "track_name     SICKO MODE\n",
       "duration_ms        312820\n",
       "Name: 50, dtype: object"
      ]
     },
     "execution_count": 25,
     "metadata": {},
     "output_type": "execute_result"
    }
   ],
   "source": [
    "max_length_index = df['duration_ms'].idxmax()\n",
    "max_length_track = df.loc[max_length_index, ['track_name', 'duration_ms']]\n",
    "max_length_track\n",
    "#longest_track"
   ]
  },
  {
   "cell_type": "markdown",
   "id": "4801123c",
   "metadata": {
    "papermill": {
     "duration": 0.015003,
     "end_time": "2024-07-24T12:52:32.452879",
     "exception": false,
     "start_time": "2024-07-24T12:52:32.437876",
     "status": "completed"
    },
    "tags": []
   },
   "source": [
    "### Which track is the shortest?"
   ]
  },
  {
   "cell_type": "code",
   "execution_count": 26,
   "id": "ea337328",
   "metadata": {
    "execution": {
     "iopub.execute_input": "2024-07-24T12:52:32.484941Z",
     "iopub.status.busy": "2024-07-24T12:52:32.484559Z",
     "iopub.status.idle": "2024-07-24T12:52:32.493753Z",
     "shell.execute_reply": "2024-07-24T12:52:32.492774Z"
    },
    "papermill": {
     "duration": 0.027915,
     "end_time": "2024-07-24T12:52:32.496145",
     "exception": false,
     "start_time": "2024-07-24T12:52:32.468230",
     "status": "completed"
    },
    "tags": []
   },
   "outputs": [
    {
     "data": {
      "text/plain": [
       "track_name     Mood (feat. iann dior)\n",
       "duration_ms                    140526\n",
       "Name: 24, dtype: object"
      ]
     },
     "execution_count": 26,
     "metadata": {},
     "output_type": "execute_result"
    }
   ],
   "source": [
    "min_length = df['duration_ms'].idxmin()\n",
    "min_length_track = df.loc[min_length, ['track_name', 'duration_ms']]\n",
    "min_length_track"
   ]
  },
  {
   "cell_type": "markdown",
   "id": "1c26cc2d",
   "metadata": {
    "papermill": {
     "duration": 0.015452,
     "end_time": "2024-07-24T12:52:32.527237",
     "exception": false,
     "start_time": "2024-07-24T12:52:32.511785",
     "status": "completed"
    },
    "tags": []
   },
   "source": [
    "### Which genre is the most popular?"
   ]
  },
  {
   "cell_type": "code",
   "execution_count": 27,
   "id": "864f127d",
   "metadata": {
    "execution": {
     "iopub.execute_input": "2024-07-24T12:52:32.560214Z",
     "iopub.status.busy": "2024-07-24T12:52:32.559851Z",
     "iopub.status.idle": "2024-07-24T12:52:32.566911Z",
     "shell.execute_reply": "2024-07-24T12:52:32.565662Z"
    },
    "papermill": {
     "duration": 0.026547,
     "end_time": "2024-07-24T12:52:32.569170",
     "exception": false,
     "start_time": "2024-07-24T12:52:32.542623",
     "status": "completed"
    },
    "tags": []
   },
   "outputs": [
    {
     "name": "stdout",
     "output_type": "stream",
     "text": [
      "The most popular genre is Pop with 14 tracks\n"
     ]
    }
   ],
   "source": [
    "#find the count of all genres\n",
    "genre_counts = df['genre'].value_counts()\n",
    "\n",
    "#find the maximum count of a genre\n",
    "most_popular_genre = genre_counts.idxmax()\n",
    "most_popular_genre_count = genre_counts.max()\n",
    "\n",
    "print(f\"The most popular genre is {most_popular_genre} with {most_popular_genre_count} tracks\")"
   ]
  },
  {
   "cell_type": "markdown",
   "id": "80d26385",
   "metadata": {
    "papermill": {
     "duration": 0.015205,
     "end_time": "2024-07-24T12:52:32.600108",
     "exception": false,
     "start_time": "2024-07-24T12:52:32.584903",
     "status": "completed"
    },
    "tags": []
   },
   "source": [
    "### Which genres have just one song on the top 50?"
   ]
  },
  {
   "cell_type": "code",
   "execution_count": 28,
   "id": "89510685",
   "metadata": {
    "execution": {
     "iopub.execute_input": "2024-07-24T12:52:32.632579Z",
     "iopub.status.busy": "2024-07-24T12:52:32.632210Z",
     "iopub.status.idle": "2024-07-24T12:52:32.648018Z",
     "shell.execute_reply": "2024-07-24T12:52:32.647024Z"
    },
    "papermill": {
     "duration": 0.034799,
     "end_time": "2024-07-24T12:52:32.650194",
     "exception": false,
     "start_time": "2024-07-24T12:52:32.615395",
     "status": "completed"
    },
    "tags": []
   },
   "outputs": [
    {
     "data": {
      "text/html": [
       "<div>\n",
       "<style scoped>\n",
       "    .dataframe tbody tr th:only-of-type {\n",
       "        vertical-align: middle;\n",
       "    }\n",
       "\n",
       "    .dataframe tbody tr th {\n",
       "        vertical-align: top;\n",
       "    }\n",
       "\n",
       "    .dataframe thead th {\n",
       "        text-align: right;\n",
       "    }\n",
       "</style>\n",
       "<table border=\"1\" class=\"dataframe\">\n",
       "  <thead>\n",
       "    <tr style=\"text-align: right;\">\n",
       "      <th></th>\n",
       "      <th>track_name</th>\n",
       "      <th>genre</th>\n",
       "    </tr>\n",
       "  </thead>\n",
       "  <tbody>\n",
       "    <tr>\n",
       "      <th>5</th>\n",
       "      <td>Don't Start Now</td>\n",
       "      <td>Nu-disco</td>\n",
       "    </tr>\n",
       "    <tr>\n",
       "      <th>9</th>\n",
       "      <td>Falling</td>\n",
       "      <td>R&amp;B/Hip-Hop alternative</td>\n",
       "    </tr>\n",
       "    <tr>\n",
       "      <th>13</th>\n",
       "      <td>Circles</td>\n",
       "      <td>Pop/Soft Rock</td>\n",
       "    </tr>\n",
       "    <tr>\n",
       "      <th>24</th>\n",
       "      <td>Mood (feat. iann dior)</td>\n",
       "      <td>Pop rap</td>\n",
       "    </tr>\n",
       "    <tr>\n",
       "      <th>28</th>\n",
       "      <td>WAP (feat. Megan Thee Stallion)</td>\n",
       "      <td>Hip-Hop/Trap</td>\n",
       "    </tr>\n",
       "    <tr>\n",
       "      <th>32</th>\n",
       "      <td>Break My Heart</td>\n",
       "      <td>Dance-pop/Disco</td>\n",
       "    </tr>\n",
       "    <tr>\n",
       "      <th>33</th>\n",
       "      <td>Dynamite</td>\n",
       "      <td>Disco-pop</td>\n",
       "    </tr>\n",
       "    <tr>\n",
       "      <th>38</th>\n",
       "      <td>Sunflower - Spider-Man: Into the Spider-Verse</td>\n",
       "      <td>Dreampop/Hip-Hop/R&amp;B</td>\n",
       "    </tr>\n",
       "    <tr>\n",
       "      <th>44</th>\n",
       "      <td>Safaera</td>\n",
       "      <td>Alternative/reggaeton/experimental</td>\n",
       "    </tr>\n",
       "    <tr>\n",
       "      <th>45</th>\n",
       "      <td>lovely (with Khalid)</td>\n",
       "      <td>Chamber pop</td>\n",
       "    </tr>\n",
       "  </tbody>\n",
       "</table>\n",
       "</div>"
      ],
      "text/plain": [
       "                                       track_name  \\\n",
       "5                                 Don't Start Now   \n",
       "9                                         Falling   \n",
       "13                                        Circles   \n",
       "24                         Mood (feat. iann dior)   \n",
       "28                WAP (feat. Megan Thee Stallion)   \n",
       "32                                 Break My Heart   \n",
       "33                                       Dynamite   \n",
       "38  Sunflower - Spider-Man: Into the Spider-Verse   \n",
       "44                                        Safaera   \n",
       "45                           lovely (with Khalid)   \n",
       "\n",
       "                                 genre  \n",
       "5                             Nu-disco  \n",
       "9              R&B/Hip-Hop alternative  \n",
       "13                       Pop/Soft Rock  \n",
       "24                             Pop rap  \n",
       "28                        Hip-Hop/Trap  \n",
       "32                     Dance-pop/Disco  \n",
       "33                           Disco-pop  \n",
       "38                Dreampop/Hip-Hop/R&B  \n",
       "44  Alternative/reggaeton/experimental  \n",
       "45                         Chamber pop  "
      ]
     },
     "execution_count": 28,
     "metadata": {},
     "output_type": "execute_result"
    }
   ],
   "source": [
    "genre_counts = df['genre'].value_counts()\n",
    "\n",
    "# Filter genres that have just one track\n",
    "one_track_genres = genre_counts[genre_counts == 1].index\n",
    "\n",
    "# Retrieve the tracks corresponding to those genres\n",
    "one_genre_tracks = df[df['genre'].isin(one_track_genres)][['track_name', 'genre']]\n",
    "\n",
    "one_genre_tracks\n"
   ]
  },
  {
   "cell_type": "markdown",
   "id": "d6c672be",
   "metadata": {
    "papermill": {
     "duration": 0.015489,
     "end_time": "2024-07-24T12:52:32.681532",
     "exception": false,
     "start_time": "2024-07-24T12:52:32.666043",
     "status": "completed"
    },
    "tags": []
   },
   "source": [
    "### How many genres in total are represented in the top 50?"
   ]
  },
  {
   "cell_type": "code",
   "execution_count": 29,
   "id": "07eab8aa",
   "metadata": {
    "execution": {
     "iopub.execute_input": "2024-07-24T12:52:32.715348Z",
     "iopub.status.busy": "2024-07-24T12:52:32.714421Z",
     "iopub.status.idle": "2024-07-24T12:52:32.721361Z",
     "shell.execute_reply": "2024-07-24T12:52:32.720463Z"
    },
    "papermill": {
     "duration": 0.025983,
     "end_time": "2024-07-24T12:52:32.723526",
     "exception": false,
     "start_time": "2024-07-24T12:52:32.697543",
     "status": "completed"
    },
    "tags": []
   },
   "outputs": [
    {
     "data": {
      "text/plain": [
       "16"
      ]
     },
     "execution_count": 29,
     "metadata": {},
     "output_type": "execute_result"
    }
   ],
   "source": [
    "number_genres = df['genre'].nunique()\n",
    "\n",
    "number_genres"
   ]
  },
  {
   "cell_type": "markdown",
   "id": "4f5885e2",
   "metadata": {
    "papermill": {
     "duration": 0.01569,
     "end_time": "2024-07-24T12:52:32.754978",
     "exception": false,
     "start_time": "2024-07-24T12:52:32.739288",
     "status": "completed"
    },
    "tags": []
   },
   "source": [
    "### Which features are strongly positively correlated?"
   ]
  },
  {
   "cell_type": "code",
   "execution_count": 30,
   "id": "33fb07f3",
   "metadata": {
    "execution": {
     "iopub.execute_input": "2024-07-24T12:52:32.788111Z",
     "iopub.status.busy": "2024-07-24T12:52:32.787717Z",
     "iopub.status.idle": "2024-07-24T12:52:32.810547Z",
     "shell.execute_reply": "2024-07-24T12:52:32.809507Z"
    },
    "papermill": {
     "duration": 0.042193,
     "end_time": "2024-07-24T12:52:32.813007",
     "exception": false,
     "start_time": "2024-07-24T12:52:32.770814",
     "status": "completed"
    },
    "tags": []
   },
   "outputs": [
    {
     "data": {
      "text/html": [
       "<div>\n",
       "<style scoped>\n",
       "    .dataframe tbody tr th:only-of-type {\n",
       "        vertical-align: middle;\n",
       "    }\n",
       "\n",
       "    .dataframe tbody tr th {\n",
       "        vertical-align: top;\n",
       "    }\n",
       "\n",
       "    .dataframe thead th {\n",
       "        text-align: right;\n",
       "    }\n",
       "</style>\n",
       "<table border=\"1\" class=\"dataframe\">\n",
       "  <thead>\n",
       "    <tr style=\"text-align: right;\">\n",
       "      <th></th>\n",
       "      <th>Feature 1</th>\n",
       "      <th>Feature 2</th>\n",
       "      <th>Correlation</th>\n",
       "    </tr>\n",
       "  </thead>\n",
       "  <tbody>\n",
       "    <tr>\n",
       "      <th>1</th>\n",
       "      <td>energy</td>\n",
       "      <td>loudness</td>\n",
       "      <td>0.79164</td>\n",
       "    </tr>\n",
       "    <tr>\n",
       "      <th>4</th>\n",
       "      <td>loudness</td>\n",
       "      <td>energy</td>\n",
       "      <td>0.79164</td>\n",
       "    </tr>\n",
       "  </tbody>\n",
       "</table>\n",
       "</div>"
      ],
      "text/plain": [
       "  Feature 1 Feature 2  Correlation\n",
       "1    energy  loudness      0.79164\n",
       "4  loudness    energy      0.79164"
      ]
     },
     "execution_count": 30,
     "metadata": {},
     "output_type": "execute_result"
    }
   ],
   "source": [
    "# Specify only the numeric columns for correlation\n",
    "numeric_columns = ['energy', 'danceability', 'key', 'loudness', 'acousticness', 'speechiness', 'instrumentalness', 'liveness', 'valence', 'tempo', 'duration_ms']\n",
    "\n",
    "# Calculate the correlation matrix for the specified numeric columns\n",
    "correlation_matrix_specified = df[numeric_columns].corr()\n",
    "\n",
    "# Find strongly positively correlated features (correlation > 0.7)\n",
    "strong_positive_correlations_specified = correlation_matrix_specified[correlation_matrix_specified > 0.7].stack().reset_index()\n",
    "strong_positive_correlations_specified = strong_positive_correlations_specified[strong_positive_correlations_specified['level_0'] != strong_positive_correlations_specified['level_1']]\n",
    "strong_positive_correlations_specified.columns = ['Feature 1', 'Feature 2', 'Correlation']\n",
    "\n",
    "strong_positive_correlations_specified"
   ]
  },
  {
   "cell_type": "markdown",
   "id": "b845fc0a",
   "metadata": {
    "papermill": {
     "duration": 0.015859,
     "end_time": "2024-07-24T12:52:32.844751",
     "exception": false,
     "start_time": "2024-07-24T12:52:32.828892",
     "status": "completed"
    },
    "tags": []
   },
   "source": [
    "### Which features are strongly negatively correlated?"
   ]
  },
  {
   "cell_type": "code",
   "execution_count": 31,
   "id": "12995c6f",
   "metadata": {
    "execution": {
     "iopub.execute_input": "2024-07-24T12:52:32.878642Z",
     "iopub.status.busy": "2024-07-24T12:52:32.877743Z",
     "iopub.status.idle": "2024-07-24T12:52:32.890983Z",
     "shell.execute_reply": "2024-07-24T12:52:32.890034Z"
    },
    "papermill": {
     "duration": 0.032584,
     "end_time": "2024-07-24T12:52:32.893214",
     "exception": false,
     "start_time": "2024-07-24T12:52:32.860630",
     "status": "completed"
    },
    "tags": []
   },
   "outputs": [
    {
     "data": {
      "text/plain": [
       "(-0.6824785203241528,\n",
       "        Feature 1     Feature 2  Correlation\n",
       " 4         energy  acousticness    -0.682479\n",
       " 44  acousticness        energy    -0.682479)"
      ]
     },
     "execution_count": 31,
     "metadata": {},
     "output_type": "execute_result"
    }
   ],
   "source": [
    "# Find the strongest negative correlation\n",
    "strongest_negative_correlation = correlation_matrix_specified.min().min()\n",
    "\n",
    "# Identify the features with the strongest negative correlation\n",
    "strongest_negative_features = correlation_matrix_specified.stack().reset_index()\n",
    "strongest_negative_features.columns = ['Feature 1', 'Feature 2', 'Correlation']\n",
    "strongest_negative_features = strongest_negative_features[(strongest_negative_features['Correlation'] == strongest_negative_correlation) & (strongest_negative_features['Feature 1'] != strongest_negative_features['Feature 2'])]\n",
    "\n",
    "strongest_negative_correlation, strongest_negative_features"
   ]
  },
  {
   "cell_type": "markdown",
   "id": "7106a185",
   "metadata": {
    "papermill": {
     "duration": 0.015645,
     "end_time": "2024-07-24T12:52:32.926198",
     "exception": false,
     "start_time": "2024-07-24T12:52:32.910553",
     "status": "completed"
    },
    "tags": []
   },
   "source": [
    "### Which features are not correlated?"
   ]
  },
  {
   "cell_type": "code",
   "execution_count": 32,
   "id": "8c450d07",
   "metadata": {
    "execution": {
     "iopub.execute_input": "2024-07-24T12:52:32.959696Z",
     "iopub.status.busy": "2024-07-24T12:52:32.959307Z",
     "iopub.status.idle": "2024-07-24T12:52:32.977603Z",
     "shell.execute_reply": "2024-07-24T12:52:32.976560Z"
    },
    "papermill": {
     "duration": 0.03773,
     "end_time": "2024-07-24T12:52:32.979800",
     "exception": false,
     "start_time": "2024-07-24T12:52:32.942070",
     "status": "completed"
    },
    "tags": []
   },
   "outputs": [
    {
     "data": {
      "text/html": [
       "<div>\n",
       "<style scoped>\n",
       "    .dataframe tbody tr th:only-of-type {\n",
       "        vertical-align: middle;\n",
       "    }\n",
       "\n",
       "    .dataframe tbody tr th {\n",
       "        vertical-align: top;\n",
       "    }\n",
       "\n",
       "    .dataframe thead th {\n",
       "        text-align: right;\n",
       "    }\n",
       "</style>\n",
       "<table border=\"1\" class=\"dataframe\">\n",
       "  <thead>\n",
       "    <tr style=\"text-align: right;\">\n",
       "      <th></th>\n",
       "      <th>Feature 1</th>\n",
       "      <th>Feature 2</th>\n",
       "      <th>Correlation</th>\n",
       "    </tr>\n",
       "  </thead>\n",
       "  <tbody>\n",
       "    <tr>\n",
       "      <th>0</th>\n",
       "      <td>energy</td>\n",
       "      <td>danceability</td>\n",
       "      <td>0.152552</td>\n",
       "    </tr>\n",
       "    <tr>\n",
       "      <th>1</th>\n",
       "      <td>energy</td>\n",
       "      <td>key</td>\n",
       "      <td>0.062428</td>\n",
       "    </tr>\n",
       "    <tr>\n",
       "      <th>2</th>\n",
       "      <td>energy</td>\n",
       "      <td>speechiness</td>\n",
       "      <td>0.074267</td>\n",
       "    </tr>\n",
       "    <tr>\n",
       "      <th>3</th>\n",
       "      <td>energy</td>\n",
       "      <td>liveness</td>\n",
       "      <td>0.069487</td>\n",
       "    </tr>\n",
       "    <tr>\n",
       "      <th>4</th>\n",
       "      <td>energy</td>\n",
       "      <td>tempo</td>\n",
       "      <td>0.075191</td>\n",
       "    </tr>\n",
       "    <tr>\n",
       "      <th>...</th>\n",
       "      <td>...</td>\n",
       "      <td>...</td>\n",
       "      <td>...</td>\n",
       "    </tr>\n",
       "    <tr>\n",
       "      <th>69</th>\n",
       "      <td>duration_ms</td>\n",
       "      <td>acousticness</td>\n",
       "      <td>-0.010988</td>\n",
       "    </tr>\n",
       "    <tr>\n",
       "      <th>70</th>\n",
       "      <td>duration_ms</td>\n",
       "      <td>instrumentalness</td>\n",
       "      <td>0.184709</td>\n",
       "    </tr>\n",
       "    <tr>\n",
       "      <th>71</th>\n",
       "      <td>duration_ms</td>\n",
       "      <td>liveness</td>\n",
       "      <td>-0.090188</td>\n",
       "    </tr>\n",
       "    <tr>\n",
       "      <th>72</th>\n",
       "      <td>duration_ms</td>\n",
       "      <td>valence</td>\n",
       "      <td>-0.039794</td>\n",
       "    </tr>\n",
       "    <tr>\n",
       "      <th>73</th>\n",
       "      <td>duration_ms</td>\n",
       "      <td>tempo</td>\n",
       "      <td>0.130328</td>\n",
       "    </tr>\n",
       "  </tbody>\n",
       "</table>\n",
       "<p>74 rows × 3 columns</p>\n",
       "</div>"
      ],
      "text/plain": [
       "      Feature 1         Feature 2  Correlation\n",
       "0        energy      danceability     0.152552\n",
       "1        energy               key     0.062428\n",
       "2        energy       speechiness     0.074267\n",
       "3        energy          liveness     0.069487\n",
       "4        energy             tempo     0.075191\n",
       "..          ...               ...          ...\n",
       "69  duration_ms      acousticness    -0.010988\n",
       "70  duration_ms  instrumentalness     0.184709\n",
       "71  duration_ms          liveness    -0.090188\n",
       "72  duration_ms           valence    -0.039794\n",
       "73  duration_ms             tempo     0.130328\n",
       "\n",
       "[74 rows x 3 columns]"
      ]
     },
     "execution_count": 32,
     "metadata": {},
     "output_type": "execute_result"
    }
   ],
   "source": [
    "# Set a threshold for non-correlation\n",
    "threshold = 0.2\n",
    "\n",
    "# Find pairs of features with correlation coefficients close to zero\n",
    "non_correlated_features = correlation_matrix_specified[(correlation_matrix_specified > -threshold) & (correlation_matrix_specified < threshold)].stack().reset_index()\n",
    "non_correlated_features = non_correlated_features[non_correlated_features['level_0'] != non_correlated_features['level_1']]\n",
    "non_correlated_features.columns = ['Feature 1', 'Feature 2', 'Correlation']\n",
    "\n",
    "non_correlated_features\n"
   ]
  },
  {
   "cell_type": "markdown",
   "id": "0aad25e5",
   "metadata": {
    "papermill": {
     "duration": 0.015896,
     "end_time": "2024-07-24T12:52:33.011864",
     "exception": false,
     "start_time": "2024-07-24T12:52:32.995968",
     "status": "completed"
    },
    "tags": []
   },
   "source": [
    "### How does the danceability score compare between Pop, Hip-Hop/Rap, Dance/Electronic, and Alternative/Indie genres?"
   ]
  },
  {
   "cell_type": "code",
   "execution_count": 33,
   "id": "69b4ee24",
   "metadata": {
    "execution": {
     "iopub.execute_input": "2024-07-24T12:52:33.046038Z",
     "iopub.status.busy": "2024-07-24T12:52:33.045576Z",
     "iopub.status.idle": "2024-07-24T12:52:33.059073Z",
     "shell.execute_reply": "2024-07-24T12:52:33.058073Z"
    },
    "papermill": {
     "duration": 0.033376,
     "end_time": "2024-07-24T12:52:33.061459",
     "exception": false,
     "start_time": "2024-07-24T12:52:33.028083",
     "status": "completed"
    },
    "tags": []
   },
   "outputs": [
    {
     "name": "stdout",
     "output_type": "stream",
     "text": [
      "Mean Danceability Score by Genre:\n",
      "               genre  danceability\n",
      "0        Hip-Hop/Rap      0.765538\n",
      "1   Dance/Electronic      0.755000\n",
      "2                Pop      0.677571\n",
      "3  Alternative/Indie      0.661750\n"
     ]
    }
   ],
   "source": [
    "#Filter genres for comparison\n",
    "\n",
    "comp_genres = ['Pop', 'Hip-Hop/Rap', 'Dance/Electronic', 'Alternative/Indie']\n",
    "\n",
    "# Filter the DataFrame to include only the needed genres\n",
    "filtered_df = df[df['genre'].isin(comp_genres)]\n",
    "\n",
    "# Group by the 'genres' column and calculate the mean danceability score\n",
    "mean_danceability = filtered_df.groupby('genre')['danceability'].mean().reset_index()\n",
    "\n",
    "#sort values\n",
    "mean_danceability_sorted = mean_danceability.sort_values(by='danceability', ascending=False).reset_index(drop=True)\n",
    "\n",
    "print(\"Mean Danceability Score by Genre:\")\n",
    "print(mean_danceability_sorted)"
   ]
  },
  {
   "cell_type": "markdown",
   "id": "f108e6e2",
   "metadata": {
    "papermill": {
     "duration": 0.016124,
     "end_time": "2024-07-24T12:52:33.093929",
     "exception": false,
     "start_time": "2024-07-24T12:52:33.077805",
     "status": "completed"
    },
    "tags": []
   },
   "source": [
    "### How does the loudness score compare between Pop, Hip-Hop/Rap, Dance/Electronic, and Alternative/Indie genres?"
   ]
  },
  {
   "cell_type": "code",
   "execution_count": 34,
   "id": "68a33c1a",
   "metadata": {
    "execution": {
     "iopub.execute_input": "2024-07-24T12:52:33.128275Z",
     "iopub.status.busy": "2024-07-24T12:52:33.127881Z",
     "iopub.status.idle": "2024-07-24T12:52:33.139856Z",
     "shell.execute_reply": "2024-07-24T12:52:33.138677Z"
    },
    "papermill": {
     "duration": 0.031856,
     "end_time": "2024-07-24T12:52:33.142233",
     "exception": false,
     "start_time": "2024-07-24T12:52:33.110377",
     "status": "completed"
    },
    "tags": []
   },
   "outputs": [
    {
     "name": "stdout",
     "output_type": "stream",
     "text": [
      "Mean Loudness Score by Genre:\n",
      "               genre  loudness\n",
      "0   Dance/Electronic -5.338000\n",
      "1  Alternative/Indie -5.421000\n",
      "2                Pop -6.460357\n",
      "3        Hip-Hop/Rap -6.917846\n"
     ]
    }
   ],
   "source": [
    "loud_genres = ['Pop', 'Hip-Hop/Rap', 'Dance/Electronic', 'Alternative/Indie']\n",
    "\n",
    "# Filter the DataFrame to include only the needed genres\n",
    "filtered_df = df[df['genre'].isin(loud_genres)]\n",
    "\n",
    "# Group by the 'genres' column and calculate the mean danceability score\n",
    "mean_danceability = filtered_df.groupby('genre')['loudness'].mean().reset_index()\n",
    "\n",
    "#sort values\n",
    "mean_loudness_sorted = mean_danceability.sort_values(by='loudness', ascending=False).reset_index(drop=True)\n",
    "\n",
    "print(\"Mean Loudness Score by Genre:\")\n",
    "print(mean_loudness_sorted)"
   ]
  },
  {
   "cell_type": "markdown",
   "id": "a4262cd9",
   "metadata": {
    "papermill": {
     "duration": 0.016717,
     "end_time": "2024-07-24T12:52:33.176165",
     "exception": false,
     "start_time": "2024-07-24T12:52:33.159448",
     "status": "completed"
    },
    "tags": []
   },
   "source": [
    "### How does the acousticness score compare between Pop, Hip-Hop/Rap, Dance/Electronic, and Alternative/Indie genres?"
   ]
  },
  {
   "cell_type": "code",
   "execution_count": 35,
   "id": "f20acdec",
   "metadata": {
    "execution": {
     "iopub.execute_input": "2024-07-24T12:52:33.212188Z",
     "iopub.status.busy": "2024-07-24T12:52:33.211768Z",
     "iopub.status.idle": "2024-07-24T12:52:33.223866Z",
     "shell.execute_reply": "2024-07-24T12:52:33.222692Z"
    },
    "papermill": {
     "duration": 0.033065,
     "end_time": "2024-07-24T12:52:33.226109",
     "exception": false,
     "start_time": "2024-07-24T12:52:33.193044",
     "status": "completed"
    },
    "tags": []
   },
   "outputs": [
    {
     "name": "stdout",
     "output_type": "stream",
     "text": [
      "Mean Acousticness Score by Genre:\n",
      "               genre  acousticness\n",
      "0  Alternative/Indie      0.583500\n",
      "1                Pop      0.323843\n",
      "2        Hip-Hop/Rap      0.188741\n",
      "3   Dance/Electronic      0.099440\n"
     ]
    }
   ],
   "source": [
    "acou_genres = ['Pop', 'Hip-Hop/Rap', 'Dance/Electronic', 'Alternative/Indie']\n",
    "\n",
    "# Filter the DataFrame to include only the needed genres\n",
    "filtered_df = df[df['genre'].isin(acou_genres)]\n",
    "\n",
    "# Group by the 'genres' column and calculate the mean danceability score\n",
    "mean_acousticness = filtered_df.groupby('genre')['acousticness'].mean().reset_index()\n",
    "\n",
    "#sort values\n",
    "mean_acousticness_sorted = mean_acousticness.sort_values(by='acousticness', ascending=False).reset_index(drop=True)\n",
    "\n",
    "print(\"Mean Acousticness Score by Genre:\")\n",
    "print(mean_acousticness_sorted)"
   ]
  },
  {
   "cell_type": "markdown",
   "id": "58e60242",
   "metadata": {
    "papermill": {
     "duration": 0.016194,
     "end_time": "2024-07-24T12:52:33.258660",
     "exception": false,
     "start_time": "2024-07-24T12:52:33.242466",
     "status": "completed"
    },
    "tags": []
   },
   "source": [
    "## Conclusion\n",
    "\n",
    "The main conclusions after conducting TOP 50 tracks analysis are these:\n",
    "\n",
    "- There are **40 artists** with **45 albums** who got to TOP 50.\n",
    "- 3 Artists tracks has got to TOP 50 with 3 of their tracks.\n",
    "- **Loudness** and **energy** are the most correlated features in the tracks which likely both to appear in a track. Loudness is usually measured in dB and it is what it means. Energy includes tempo and loudness, so it is not surprising they are correlating well together.\n",
    "-  The data analysis shows that acousticness and energy seem to be the most **negatively correlated** feautures: there is little chance these features both appear in one track. Acousticness means more instrumental music which is not that loud or in quick tempo.\n",
    "- **Acousticness** is the biggeset in Alternative/Inde the most compared to the other genres.\n",
    "- **Loudness** appears more in Pop or HipHop/Rap genres.\n",
    "- **Danceability** is most likely to appear in Hip-Hop/Rap and Dance/Electronic genres.\n",
    "\n",
    "#### For the further analysis:\n",
    "- More visuals should be conducted.\n",
    "- Should determine each feature domination by genre (e. g. see if Acousticness the biggest feature of Alternative/Indie genre and similar).\n",
    "- Which features or their combinations impact the success in the TOP charts and if they have a significant effect at all."
   ]
  }
 ],
 "metadata": {
  "kaggle": {
   "accelerator": "none",
   "dataSources": [
    {
     "datasetId": 1128921,
     "sourceId": 1895485,
     "sourceType": "datasetVersion"
    }
   ],
   "dockerImageVersionId": 30746,
   "isGpuEnabled": false,
   "isInternetEnabled": false,
   "language": "python",
   "sourceType": "notebook"
  },
  "kernelspec": {
   "display_name": "Python 3",
   "language": "python",
   "name": "python3"
  },
  "language_info": {
   "codemirror_mode": {
    "name": "ipython",
    "version": 3
   },
   "file_extension": ".py",
   "mimetype": "text/x-python",
   "name": "python",
   "nbconvert_exporter": "python",
   "pygments_lexer": "ipython3",
   "version": "3.10.13"
  },
  "papermill": {
   "default_parameters": {},
   "duration": 7.660526,
   "end_time": "2024-07-24T12:52:33.795613",
   "environment_variables": {},
   "exception": null,
   "input_path": "__notebook__.ipynb",
   "output_path": "__notebook__.ipynb",
   "parameters": {},
   "start_time": "2024-07-24T12:52:26.135087",
   "version": "2.5.0"
  }
 },
 "nbformat": 4,
 "nbformat_minor": 5
}
